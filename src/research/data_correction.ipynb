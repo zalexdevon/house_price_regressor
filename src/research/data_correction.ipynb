{
 "cells": [
  {
   "cell_type": "code",
   "execution_count": null,
   "metadata": {},
   "outputs": [
    {
     "data": {
      "text/plain": [
       "'d:\\\\DA_workspace\\\\car_price_prediction\\\\src'"
      ]
     },
     "execution_count": 1,
     "metadata": {},
     "output_type": "execute_result"
    }
   ],
   "source": [
    "import os\n",
    "\n",
    "\n",
    "os.chdir(\"../\")\n",
    "\n",
    "\n",
    "os.getcwd()\n"
   ]
  },
  {
   "cell_type": "code",
   "execution_count": null,
   "metadata": {},
   "outputs": [],
   "source": [
    "import pandas as pd\n",
    "import numpy as np\n",
    "from regressor.Mylib import myfuncs\n",
    "from sklearn.compose import ColumnTransformer\n",
    "from sklearn.impute import SimpleImputer\n",
    "from sklearn.base import BaseEstimator, TransformerMixin\n",
    "from sklearn.model_selection import train_test_split\n"
   ]
  },
  {
   "cell_type": "markdown",
   "metadata": {},
   "source": [
    "Doc du lieu\n"
   ]
  },
  {
   "cell_type": "code",
   "execution_count": null,
   "metadata": {},
   "outputs": [
    {
     "data": {
      "text/html": [
       "<div>\n",
       "<style scoped>\n",
       "    .dataframe tbody tr th:only-of-type {\n",
       "        vertical-align: middle;\n",
       "    }\n",
       "\n",
       "    .dataframe tbody tr th {\n",
       "        vertical-align: top;\n",
       "    }\n",
       "\n",
       "    .dataframe thead th {\n",
       "        text-align: right;\n",
       "    }\n",
       "</style>\n",
       "<table border=\"1\" class=\"dataframe\">\n",
       "  <thead>\n",
       "    <tr style=\"text-align: right;\">\n",
       "      <th></th>\n",
       "      <th>Brand</th>\n",
       "      <th>Model</th>\n",
       "      <th>Year</th>\n",
       "      <th>Engine_Size</th>\n",
       "      <th>Fuel_Type</th>\n",
       "      <th>Transmission</th>\n",
       "      <th>Mileage</th>\n",
       "      <th>Doors</th>\n",
       "      <th>Owner_Count</th>\n",
       "      <th>Price</th>\n",
       "    </tr>\n",
       "  </thead>\n",
       "  <tbody>\n",
       "    <tr>\n",
       "      <th>0</th>\n",
       "      <td>Toyota</td>\n",
       "      <td>Camry</td>\n",
       "      <td>2004</td>\n",
       "      <td>4.4</td>\n",
       "      <td>Diesel</td>\n",
       "      <td>Semi-Automatic</td>\n",
       "      <td>137461</td>\n",
       "      <td>4</td>\n",
       "      <td>5</td>\n",
       "      <td>6950</td>\n",
       "    </tr>\n",
       "    <tr>\n",
       "      <th>1</th>\n",
       "      <td>Honda</td>\n",
       "      <td>CR-V</td>\n",
       "      <td>2015</td>\n",
       "      <td>4.3</td>\n",
       "      <td>Electric</td>\n",
       "      <td>Semi-Automatic</td>\n",
       "      <td>109966</td>\n",
       "      <td>2</td>\n",
       "      <td>1</td>\n",
       "      <td>12700</td>\n",
       "    </tr>\n",
       "    <tr>\n",
       "      <th>2</th>\n",
       "      <td>Chevrolet</td>\n",
       "      <td>Impala</td>\n",
       "      <td>2006</td>\n",
       "      <td>3.0</td>\n",
       "      <td>Electric</td>\n",
       "      <td>Manual</td>\n",
       "      <td>9880</td>\n",
       "      <td>4</td>\n",
       "      <td>5</td>\n",
       "      <td>10702</td>\n",
       "    </tr>\n",
       "    <tr>\n",
       "      <th>3</th>\n",
       "      <td>Toyota</td>\n",
       "      <td>RAV4</td>\n",
       "      <td>2023</td>\n",
       "      <td>2.4</td>\n",
       "      <td>Petrol</td>\n",
       "      <td>Semi-Automatic</td>\n",
       "      <td>240972</td>\n",
       "      <td>2</td>\n",
       "      <td>3</td>\n",
       "      <td>8580</td>\n",
       "    </tr>\n",
       "    <tr>\n",
       "      <th>4</th>\n",
       "      <td>Volkswagen</td>\n",
       "      <td>Passat</td>\n",
       "      <td>2017</td>\n",
       "      <td>2.7</td>\n",
       "      <td>Diesel</td>\n",
       "      <td>Automatic</td>\n",
       "      <td>167257</td>\n",
       "      <td>4</td>\n",
       "      <td>2</td>\n",
       "      <td>10054</td>\n",
       "    </tr>\n",
       "  </tbody>\n",
       "</table>\n",
       "</div>"
      ],
      "text/plain": [
       "        Brand   Model  Year  Engine_Size Fuel_Type    Transmission  Mileage  \\\n",
       "0      Toyota   Camry  2004          4.4    Diesel  Semi-Automatic   137461   \n",
       "1       Honda    CR-V  2015          4.3  Electric  Semi-Automatic   109966   \n",
       "2   Chevrolet  Impala  2006          3.0  Electric          Manual     9880   \n",
       "3      Toyota    RAV4  2023          2.4    Petrol  Semi-Automatic   240972   \n",
       "4  Volkswagen  Passat  2017          2.7    Diesel       Automatic   167257   \n",
       "\n",
       "   Doors  Owner_Count  Price  \n",
       "0      4            5   6950  \n",
       "1      2            1  12700  \n",
       "2      4            5  10702  \n",
       "3      2            3   8580  \n",
       "4      4            2  10054  "
      ]
     },
     "execution_count": 3,
     "metadata": {},
     "output_type": "execute_result"
    }
   ],
   "source": [
    "df = myfuncs.load_python_object(\"../artifacts/data_ingestion/train_data.pkl\")\n",
    "\n",
    "df.head()\n"
   ]
  },
  {
   "cell_type": "markdown",
   "metadata": {},
   "source": [
    "Kich thuoc\n"
   ]
  },
  {
   "cell_type": "code",
   "execution_count": null,
   "metadata": {},
   "outputs": [
    {
     "data": {
      "text/plain": [
       "(9000, 10)"
      ]
     },
     "execution_count": 4,
     "metadata": {},
     "output_type": "execute_result"
    }
   ],
   "source": [
    "df.shape\n"
   ]
  },
  {
   "cell_type": "markdown",
   "metadata": {},
   "source": [
    "Ti le missing cac cot\n"
   ]
  },
  {
   "cell_type": "code",
   "execution_count": null,
   "metadata": {},
   "outputs": [
    {
     "data": {
      "text/plain": [
       "Brand           0.0\n",
       "Model           0.0\n",
       "Year            0.0\n",
       "Engine_Size     0.0\n",
       "Fuel_Type       0.0\n",
       "Transmission    0.0\n",
       "Mileage         0.0\n",
       "Doors           0.0\n",
       "Owner_Count     0.0\n",
       "Price           0.0\n",
       "dtype: float64"
      ]
     },
     "execution_count": 5,
     "metadata": {},
     "output_type": "execute_result"
    }
   ],
   "source": [
    "df.isnull().mean() * 100\n"
   ]
  },
  {
   "cell_type": "markdown",
   "metadata": {},
   "source": [
    "Khong xoa cot nao het !\n"
   ]
  },
  {
   "cell_type": "markdown",
   "metadata": {},
   "source": [
    "Kich thuoc con lai\n"
   ]
  },
  {
   "cell_type": "code",
   "execution_count": null,
   "metadata": {},
   "outputs": [
    {
     "data": {
      "text/plain": [
       "(9000, 10)"
      ]
     },
     "execution_count": 6,
     "metadata": {},
     "output_type": "execute_result"
    }
   ],
   "source": [
    "df.shape\n"
   ]
  },
  {
   "cell_type": "markdown",
   "metadata": {},
   "source": [
    "Y nghia cac cot\n",
    "\n",
    "| Cot          | Y nghia                 | Don vi | Phan loai |\n",
    "| ------------ | ----------------------- | ------ | --------- |\n",
    "| Brand        | Nhan hieu               | none   | Nominal   |\n",
    "| Model        | Mo hinh xe              | none   | Nominal   |\n",
    "| Year         | Nam san xuat xe         | none   | Numeric   |\n",
    "| Engine_Size  | kich thuoc dong co      | lit    | Numeric   |\n",
    "| Fuel_Type    | Loai nhien lieu su dung | none   | Nominal   |\n",
    "| Transmission | Loai hop so             | none   | Nominal   |\n",
    "| Mileage      | Quang duong xe da di    | km     | Numeric   |\n",
    "| Doors        | So cua xe               | none   | Numeric   |\n",
    "| Owner_Count  | So nguoi chu cu cua xe  | none   | Numeric   |\n",
    "| Price        | Gia ban                 | none   | Numeric   |\n"
   ]
  },
  {
   "cell_type": "markdown",
   "metadata": {},
   "source": [
    "Doi ten cot\n"
   ]
  },
  {
   "cell_type": "code",
   "execution_count": null,
   "metadata": {},
   "outputs": [
    {
     "data": {
      "text/plain": [
       "Index(['Brand', 'Model', 'Year', 'Engine_Size', 'Fuel_Type', 'Transmission',\n",
       "       'Mileage', 'Doors', 'Owner_Count', 'Price'],\n",
       "      dtype='object')"
      ]
     },
     "execution_count": 7,
     "metadata": {},
     "output_type": "execute_result"
    }
   ],
   "source": [
    "df.columns\n"
   ]
  },
  {
   "cell_type": "code",
   "execution_count": null,
   "metadata": {},
   "outputs": [
    {
     "data": {
      "text/html": [
       "<div>\n",
       "<style scoped>\n",
       "    .dataframe tbody tr th:only-of-type {\n",
       "        vertical-align: middle;\n",
       "    }\n",
       "\n",
       "    .dataframe tbody tr th {\n",
       "        vertical-align: top;\n",
       "    }\n",
       "\n",
       "    .dataframe thead th {\n",
       "        text-align: right;\n",
       "    }\n",
       "</style>\n",
       "<table border=\"1\" class=\"dataframe\">\n",
       "  <thead>\n",
       "    <tr style=\"text-align: right;\">\n",
       "      <th></th>\n",
       "      <th>Brand_nom</th>\n",
       "      <th>Model_nom</th>\n",
       "      <th>Year_num</th>\n",
       "      <th>Engine_Size_num</th>\n",
       "      <th>Fuel_Type_nom</th>\n",
       "      <th>Transmission_type_nom</th>\n",
       "      <th>Mileage_num</th>\n",
       "      <th>Doors_count_num</th>\n",
       "      <th>old_Owner_Count_num</th>\n",
       "      <th>Price</th>\n",
       "    </tr>\n",
       "  </thead>\n",
       "  <tbody>\n",
       "    <tr>\n",
       "      <th>0</th>\n",
       "      <td>Toyota</td>\n",
       "      <td>Camry</td>\n",
       "      <td>2004</td>\n",
       "      <td>4.4</td>\n",
       "      <td>Diesel</td>\n",
       "      <td>Semi-Automatic</td>\n",
       "      <td>137461</td>\n",
       "      <td>4</td>\n",
       "      <td>5</td>\n",
       "      <td>6950</td>\n",
       "    </tr>\n",
       "    <tr>\n",
       "      <th>1</th>\n",
       "      <td>Honda</td>\n",
       "      <td>CR-V</td>\n",
       "      <td>2015</td>\n",
       "      <td>4.3</td>\n",
       "      <td>Electric</td>\n",
       "      <td>Semi-Automatic</td>\n",
       "      <td>109966</td>\n",
       "      <td>2</td>\n",
       "      <td>1</td>\n",
       "      <td>12700</td>\n",
       "    </tr>\n",
       "    <tr>\n",
       "      <th>2</th>\n",
       "      <td>Chevrolet</td>\n",
       "      <td>Impala</td>\n",
       "      <td>2006</td>\n",
       "      <td>3.0</td>\n",
       "      <td>Electric</td>\n",
       "      <td>Manual</td>\n",
       "      <td>9880</td>\n",
       "      <td>4</td>\n",
       "      <td>5</td>\n",
       "      <td>10702</td>\n",
       "    </tr>\n",
       "    <tr>\n",
       "      <th>3</th>\n",
       "      <td>Toyota</td>\n",
       "      <td>RAV4</td>\n",
       "      <td>2023</td>\n",
       "      <td>2.4</td>\n",
       "      <td>Petrol</td>\n",
       "      <td>Semi-Automatic</td>\n",
       "      <td>240972</td>\n",
       "      <td>2</td>\n",
       "      <td>3</td>\n",
       "      <td>8580</td>\n",
       "    </tr>\n",
       "    <tr>\n",
       "      <th>4</th>\n",
       "      <td>Volkswagen</td>\n",
       "      <td>Passat</td>\n",
       "      <td>2017</td>\n",
       "      <td>2.7</td>\n",
       "      <td>Diesel</td>\n",
       "      <td>Automatic</td>\n",
       "      <td>167257</td>\n",
       "      <td>4</td>\n",
       "      <td>2</td>\n",
       "      <td>10054</td>\n",
       "    </tr>\n",
       "  </tbody>\n",
       "</table>\n",
       "</div>"
      ],
      "text/plain": [
       "    Brand_nom Model_nom  Year_num  Engine_Size_num Fuel_Type_nom  \\\n",
       "0      Toyota     Camry      2004              4.4        Diesel   \n",
       "1       Honda      CR-V      2015              4.3      Electric   \n",
       "2   Chevrolet    Impala      2006              3.0      Electric   \n",
       "3      Toyota      RAV4      2023              2.4        Petrol   \n",
       "4  Volkswagen    Passat      2017              2.7        Diesel   \n",
       "\n",
       "  Transmission_type_nom  Mileage_num  Doors_count_num  old_Owner_Count_num  \\\n",
       "0        Semi-Automatic       137461                4                    5   \n",
       "1        Semi-Automatic       109966                2                    1   \n",
       "2                Manual         9880                4                    5   \n",
       "3        Semi-Automatic       240972                2                    3   \n",
       "4             Automatic       167257                4                    2   \n",
       "\n",
       "   Price  \n",
       "0   6950  \n",
       "1  12700  \n",
       "2  10702  \n",
       "3   8580  \n",
       "4  10054  "
      ]
     },
     "execution_count": 8,
     "metadata": {},
     "output_type": "execute_result"
    }
   ],
   "source": [
    "rename_dict = {\n",
    "    \"Brand\": \"Brand_nom\",\n",
    "    \"Model\": \"Model_nom\",\n",
    "    \"Year\": \"Year_num\",\n",
    "    \"Engine_Size\": \"Engine_Size_num\",\n",
    "    \"Fuel_Type\": \"Fuel_Type_nom\",\n",
    "    \"Transmission\": \"Transmission_type_nom\",\n",
    "    \"Mileage\": \"Mileage_num\",\n",
    "    \"Doors\": \"Doors_count_num\",\n",
    "    \"Owner_Count\": \"old_Owner_Count_num\",\n",
    "}\n",
    "\n",
    "\n",
    "df = df.rename(columns=rename_dict)\n",
    "\n",
    "df.head()\n"
   ]
  },
  {
   "cell_type": "code",
   "execution_count": null,
   "metadata": {},
   "outputs": [
    {
     "data": {
      "text/plain": [
       "Index(['Brand_nom', 'Model_nom', 'Year_num', 'Engine_Size_num',\n",
       "       'Fuel_Type_nom', 'Transmission_type_nom', 'Mileage_num',\n",
       "       'Doors_count_num', 'old_Owner_Count_num', 'Price'],\n",
       "      dtype='object')"
      ]
     },
     "execution_count": 9,
     "metadata": {},
     "output_type": "execute_result"
    }
   ],
   "source": [
    "df.columns\n"
   ]
  },
  {
   "cell_type": "markdown",
   "metadata": {},
   "source": [
    "Y nghia cac cot\n",
    "\n",
    "| Cot                   | Y nghia                 | Don vi | Phan loai |\n",
    "| --------------------- | ----------------------- | ------ | --------- |\n",
    "| Brand_nom             | Nhan hieu               | none   | Nominal   |\n",
    "| Model_nom             | Mo hinh xe              | none   | Nominal   |\n",
    "| Year_num              | Nam san xuat xe         | none   | Numeric   |\n",
    "| Engine_Size_num       | kich thuoc dong co      | lit    | Numeric   |\n",
    "| Fuel_Type_nom         | Loai nhien lieu su dung | none   | Nominal   |\n",
    "| Transmission_type_nom | Loai hop so             | none   | Nominal   |\n",
    "| Mileage_num           | Quang duong xe da di    | km     | Numeric   |\n",
    "| Doors_count_num       | So cua xe               | none   | Numeric   |\n",
    "| old_Owner_Count_num   | So nguoi chu cu cua xe  | none   | Numeric   |\n",
    "| Price                 | Gia ban                 | none   | Numeric   |\n"
   ]
  },
  {
   "cell_type": "markdown",
   "metadata": {},
   "source": [
    "Chuyen cac cot numeric, binary, nominal, ordinal, target ve dung vi tri\n"
   ]
  },
  {
   "cell_type": "code",
   "execution_count": null,
   "metadata": {},
   "outputs": [
    {
     "data": {
      "text/plain": [
       "Index(['Brand_nom', 'Model_nom', 'Year_num', 'Engine_Size_num',\n",
       "       'Fuel_Type_nom', 'Transmission_type_nom', 'Mileage_num',\n",
       "       'Doors_count_num', 'old_Owner_Count_num', 'Price'],\n",
       "      dtype='object')"
      ]
     },
     "execution_count": 10,
     "metadata": {},
     "output_type": "execute_result"
    }
   ],
   "source": [
    "df.columns\n"
   ]
  },
  {
   "cell_type": "code",
   "execution_count": null,
   "metadata": {},
   "outputs": [
    {
     "data": {
      "text/html": [
       "<div>\n",
       "<style scoped>\n",
       "    .dataframe tbody tr th:only-of-type {\n",
       "        vertical-align: middle;\n",
       "    }\n",
       "\n",
       "    .dataframe tbody tr th {\n",
       "        vertical-align: top;\n",
       "    }\n",
       "\n",
       "    .dataframe thead th {\n",
       "        text-align: right;\n",
       "    }\n",
       "</style>\n",
       "<table border=\"1\" class=\"dataframe\">\n",
       "  <thead>\n",
       "    <tr style=\"text-align: right;\">\n",
       "      <th></th>\n",
       "      <th>Year_num</th>\n",
       "      <th>Engine_Size_num</th>\n",
       "      <th>Mileage_num</th>\n",
       "      <th>Doors_count_num</th>\n",
       "      <th>old_Owner_Count_num</th>\n",
       "      <th>Brand_nom</th>\n",
       "      <th>Model_nom</th>\n",
       "      <th>Fuel_Type_nom</th>\n",
       "      <th>Transmission_type_nom</th>\n",
       "      <th>Price</th>\n",
       "    </tr>\n",
       "  </thead>\n",
       "  <tbody>\n",
       "    <tr>\n",
       "      <th>0</th>\n",
       "      <td>2004</td>\n",
       "      <td>4.4</td>\n",
       "      <td>137461</td>\n",
       "      <td>4</td>\n",
       "      <td>5</td>\n",
       "      <td>Toyota</td>\n",
       "      <td>Camry</td>\n",
       "      <td>Diesel</td>\n",
       "      <td>Semi-Automatic</td>\n",
       "      <td>6950</td>\n",
       "    </tr>\n",
       "    <tr>\n",
       "      <th>1</th>\n",
       "      <td>2015</td>\n",
       "      <td>4.3</td>\n",
       "      <td>109966</td>\n",
       "      <td>2</td>\n",
       "      <td>1</td>\n",
       "      <td>Honda</td>\n",
       "      <td>CR-V</td>\n",
       "      <td>Electric</td>\n",
       "      <td>Semi-Automatic</td>\n",
       "      <td>12700</td>\n",
       "    </tr>\n",
       "    <tr>\n",
       "      <th>2</th>\n",
       "      <td>2006</td>\n",
       "      <td>3.0</td>\n",
       "      <td>9880</td>\n",
       "      <td>4</td>\n",
       "      <td>5</td>\n",
       "      <td>Chevrolet</td>\n",
       "      <td>Impala</td>\n",
       "      <td>Electric</td>\n",
       "      <td>Manual</td>\n",
       "      <td>10702</td>\n",
       "    </tr>\n",
       "    <tr>\n",
       "      <th>3</th>\n",
       "      <td>2023</td>\n",
       "      <td>2.4</td>\n",
       "      <td>240972</td>\n",
       "      <td>2</td>\n",
       "      <td>3</td>\n",
       "      <td>Toyota</td>\n",
       "      <td>RAV4</td>\n",
       "      <td>Petrol</td>\n",
       "      <td>Semi-Automatic</td>\n",
       "      <td>8580</td>\n",
       "    </tr>\n",
       "    <tr>\n",
       "      <th>4</th>\n",
       "      <td>2017</td>\n",
       "      <td>2.7</td>\n",
       "      <td>167257</td>\n",
       "      <td>4</td>\n",
       "      <td>2</td>\n",
       "      <td>Volkswagen</td>\n",
       "      <td>Passat</td>\n",
       "      <td>Diesel</td>\n",
       "      <td>Automatic</td>\n",
       "      <td>10054</td>\n",
       "    </tr>\n",
       "  </tbody>\n",
       "</table>\n",
       "</div>"
      ],
      "text/plain": [
       "   Year_num  Engine_Size_num  Mileage_num  Doors_count_num  \\\n",
       "0      2004              4.4       137461                4   \n",
       "1      2015              4.3       109966                2   \n",
       "2      2006              3.0         9880                4   \n",
       "3      2023              2.4       240972                2   \n",
       "4      2017              2.7       167257                4   \n",
       "\n",
       "   old_Owner_Count_num   Brand_nom Model_nom Fuel_Type_nom  \\\n",
       "0                    5      Toyota     Camry        Diesel   \n",
       "1                    1       Honda      CR-V      Electric   \n",
       "2                    5   Chevrolet    Impala      Electric   \n",
       "3                    3      Toyota      RAV4        Petrol   \n",
       "4                    2  Volkswagen    Passat        Diesel   \n",
       "\n",
       "  Transmission_type_nom  Price  \n",
       "0        Semi-Automatic   6950  \n",
       "1        Semi-Automatic  12700  \n",
       "2                Manual  10702  \n",
       "3        Semi-Automatic   8580  \n",
       "4             Automatic  10054  "
      ]
     },
     "execution_count": 11,
     "metadata": {},
     "output_type": "execute_result"
    }
   ],
   "source": [
    "cols = pd.Series(df.columns)\n",
    "numeric_cols = cols[cols.str.endswith(\"num\")].tolist()\n",
    "binary_cols = cols[cols.str.endswith(\"bin\")].tolist()\n",
    "nominal_cols = cols[cols.str.endswith(\"nom\")].tolist()\n",
    "ordinal_cols = cols[cols.str.endswith(\"ord\")].tolist()\n",
    "\n",
    "\n",
    "target_col = \"Price\"\n",
    "\n",
    "\n",
    "df = df[numeric_cols + binary_cols + nominal_cols + ordinal_cols + [target_col]]\n",
    "\n",
    "\n",
    "df.head()\n"
   ]
  },
  {
   "cell_type": "markdown",
   "metadata": {},
   "source": [
    "Kiem tra kieu du lieu cac cot\n"
   ]
  },
  {
   "cell_type": "code",
   "execution_count": null,
   "metadata": {},
   "outputs": [
    {
     "name": "stdout",
     "output_type": "stream",
     "text": [
      "<class 'pandas.core.frame.DataFrame'>\n",
      "RangeIndex: 9000 entries, 0 to 8999\n",
      "Data columns (total 10 columns):\n",
      " #   Column                 Non-Null Count  Dtype  \n",
      "---  ------                 --------------  -----  \n",
      " 0   Year_num               9000 non-null   int64  \n",
      " 1   Engine_Size_num        9000 non-null   float64\n",
      " 2   Mileage_num            9000 non-null   int64  \n",
      " 3   Doors_count_num        9000 non-null   int64  \n",
      " 4   old_Owner_Count_num    9000 non-null   int64  \n",
      " 5   Brand_nom              9000 non-null   object \n",
      " 6   Model_nom              9000 non-null   object \n",
      " 7   Fuel_Type_nom          9000 non-null   object \n",
      " 8   Transmission_type_nom  9000 non-null   object \n",
      " 9   Price                  9000 non-null   int64  \n",
      "dtypes: float64(1), int64(5), object(4)\n",
      "memory usage: 703.2+ KB\n"
     ]
    }
   ],
   "source": [
    "df.info()\n"
   ]
  },
  {
   "cell_type": "markdown",
   "metadata": {},
   "source": [
    "DUNG\n",
    "\n",
    "- Year_num\n",
    "- Engine_Size_num\n",
    "- Mileage_num\n",
    "- Doors_count_num\n",
    "- old_Owner_Count_num\n",
    "- Price\n",
    "\n",
    "---\n",
    "\n",
    "SAI\n",
    "\n",
    "- Brand_nom\n",
    "- Model_nom\n",
    "- Fuel_Type_nom\n",
    "- Transmission_type_nom\n"
   ]
  },
  {
   "cell_type": "markdown",
   "metadata": {},
   "source": [
    "Kiem tra cac cot co kdl = kdlmm + NA\n"
   ]
  },
  {
   "cell_type": "code",
   "execution_count": null,
   "metadata": {},
   "outputs": [
    {
     "data": {
      "text/plain": [
       "{str}"
      ]
     },
     "execution_count": 13,
     "metadata": {},
     "output_type": "execute_result"
    }
   ],
   "source": [
    "set(map(type, df[\"Brand_nom\"]))\n"
   ]
  },
  {
   "cell_type": "code",
   "execution_count": null,
   "metadata": {},
   "outputs": [
    {
     "data": {
      "text/plain": [
       "{str}"
      ]
     },
     "execution_count": 14,
     "metadata": {},
     "output_type": "execute_result"
    }
   ],
   "source": [
    "set(map(type, df[\"Model_nom\"]))\n"
   ]
  },
  {
   "cell_type": "code",
   "execution_count": null,
   "metadata": {},
   "outputs": [
    {
     "data": {
      "text/plain": [
       "{str}"
      ]
     },
     "execution_count": 15,
     "metadata": {},
     "output_type": "execute_result"
    }
   ],
   "source": [
    "set(map(type, df[\"Fuel_Type_nom\"]))\n"
   ]
  },
  {
   "cell_type": "code",
   "execution_count": null,
   "metadata": {},
   "outputs": [
    {
     "data": {
      "text/plain": [
       "{str}"
      ]
     },
     "execution_count": 16,
     "metadata": {},
     "output_type": "execute_result"
    }
   ],
   "source": [
    "set(map(type, df[\"Transmission_type_nom\"]))\n"
   ]
  },
  {
   "cell_type": "markdown",
   "metadata": {},
   "source": [
    "Kiem tra noi dung cac cot\n",
    "\n",
    "Cot numeric\n"
   ]
  },
  {
   "cell_type": "code",
   "execution_count": null,
   "metadata": {},
   "outputs": [
    {
     "data": {
      "text/html": [
       "<div>\n",
       "<style scoped>\n",
       "    .dataframe tbody tr th:only-of-type {\n",
       "        vertical-align: middle;\n",
       "    }\n",
       "\n",
       "    .dataframe tbody tr th {\n",
       "        vertical-align: top;\n",
       "    }\n",
       "\n",
       "    .dataframe thead th {\n",
       "        text-align: right;\n",
       "    }\n",
       "</style>\n",
       "<table border=\"1\" class=\"dataframe\">\n",
       "  <thead>\n",
       "    <tr style=\"text-align: right;\">\n",
       "      <th></th>\n",
       "      <th>Year_num</th>\n",
       "      <th>Engine_Size_num</th>\n",
       "      <th>Mileage_num</th>\n",
       "      <th>Doors_count_num</th>\n",
       "      <th>old_Owner_Count_num</th>\n",
       "    </tr>\n",
       "  </thead>\n",
       "  <tbody>\n",
       "    <tr>\n",
       "      <th>min</th>\n",
       "      <td>2000.000000</td>\n",
       "      <td>1.000000</td>\n",
       "      <td>25.000</td>\n",
       "      <td>2.000000</td>\n",
       "      <td>1.000000</td>\n",
       "    </tr>\n",
       "    <tr>\n",
       "      <th>max</th>\n",
       "      <td>2023.000000</td>\n",
       "      <td>5.000000</td>\n",
       "      <td>299947.000</td>\n",
       "      <td>5.000000</td>\n",
       "      <td>5.000000</td>\n",
       "    </tr>\n",
       "    <tr>\n",
       "      <th>mean</th>\n",
       "      <td>2011.539222</td>\n",
       "      <td>2.999789</td>\n",
       "      <td>149348.213</td>\n",
       "      <td>3.501444</td>\n",
       "      <td>2.991778</td>\n",
       "    </tr>\n",
       "  </tbody>\n",
       "</table>\n",
       "</div>"
      ],
      "text/plain": [
       "         Year_num  Engine_Size_num  Mileage_num  Doors_count_num  \\\n",
       "min   2000.000000         1.000000       25.000         2.000000   \n",
       "max   2023.000000         5.000000   299947.000         5.000000   \n",
       "mean  2011.539222         2.999789   149348.213         3.501444   \n",
       "\n",
       "      old_Owner_Count_num  \n",
       "min              1.000000  \n",
       "max              5.000000  \n",
       "mean             2.991778  "
      ]
     },
     "execution_count": 17,
     "metadata": {},
     "output_type": "execute_result"
    }
   ],
   "source": [
    "df[numeric_cols].describe().loc[[\"min\", \"max\", \"mean\"]]\n"
   ]
  },
  {
   "cell_type": "markdown",
   "metadata": {},
   "source": [
    "Cot binary\n"
   ]
  },
  {
   "cell_type": "code",
   "execution_count": null,
   "metadata": {},
   "outputs": [],
   "source": [
    "for col in binary_cols:\n",
    "    print(f\"{col} -> {df[col].unique().tolist()}\")\n"
   ]
  },
  {
   "cell_type": "markdown",
   "metadata": {},
   "source": [
    "Cot nominal\n"
   ]
  },
  {
   "cell_type": "code",
   "execution_count": null,
   "metadata": {},
   "outputs": [
    {
     "name": "stdout",
     "output_type": "stream",
     "text": [
      "Brand_nom -> ['Toyota', 'Honda', 'Chevrolet', 'Volkswagen', 'Ford', 'Kia', 'Hyundai', 'BMW', 'Mercedes', 'Audi']\n",
      "Model_nom -> ['Camry', 'CR-V', 'Impala', 'RAV4', 'Passat', 'Fiesta', 'Sportage', 'Elantra', '5 Series', '3 Series', 'Equinox', 'Focus', 'Accord', 'E-Class', 'Rio', 'Explorer', 'Sonata', 'Tucson', 'Optima', 'X5', 'A3', 'A4', 'C-Class', 'Q5', 'Malibu', 'GLA', 'Corolla', 'Tiguan', 'Golf', 'Civic']\n",
      "Fuel_Type_nom -> ['Diesel', 'Electric', 'Petrol', 'Hybrid']\n",
      "Transmission_type_nom -> ['Semi-Automatic', 'Manual', 'Automatic']\n"
     ]
    }
   ],
   "source": [
    "for col in nominal_cols:\n",
    "    print(f\"{col} -> {df[col].unique().tolist()}\")\n"
   ]
  },
  {
   "cell_type": "markdown",
   "metadata": {},
   "source": [
    "Cot ordinal\n"
   ]
  },
  {
   "cell_type": "code",
   "execution_count": null,
   "metadata": {},
   "outputs": [],
   "source": [
    "for col in ordinal_cols:\n",
    "    print(f\"{col} -> {df[col].unique().tolist()}\")\n"
   ]
  },
  {
   "cell_type": "markdown",
   "metadata": {},
   "source": [
    "Cot target\n"
   ]
  },
  {
   "cell_type": "code",
   "execution_count": null,
   "metadata": {},
   "outputs": [
    {
     "name": "stdout",
     "output_type": "stream",
     "text": [
      "Price -> [6950, 12700, 10702, 8580, 10054, 7091, 13490, 6827, 8839, 7642, 11848, 11671, 12488, 9831, 8547, 10710, 4970, 9075, 12909, 9723, 12509, 9986, 3554, 5947, 5977, 14202, 8366, 13875, 11316, 8990, 8541, 11372, 13650, 9355, 14519, 3126, 10459, 9643, 5782, 10340, 10186, 7277, 10866, 7275, 11474, 8654, 13849, 12296, 8222, 9704, 11534, 10215, 12972, 4688, 11478, 12447, 2000, 12282, 10121, 5651, 12394, 12056, 8842, 6806, 5328, 10267, 12112, 10423, 10745, 5863, 7456, 8091, 6858, 13663, 10962, 12929, 6868, 8878, 6904, 4659, 5811, 7010, 13435, 11322, 13588, 9839, 10354, 7876, 11357, 7533, 7458, 10623, 8124, 6461, 6724, 8457, 10830, 12020, 9261, 10066, 13962, 10000, 6456, 5461, 13104, 11337, 9612, 6453, 8327, 5503, 6896, 5286, 7491, 12650, 6485, 9693, 7803, 10045, 12616, 2903, 11127, 9412, 6208, 10686, 11799, 9225, 13743, 9435, 7568, 4545, 9618, 4524, 11559, 12777, 6726, 9148, 5594, 5938, 12560, 7060, 9221, 8854, 10609, 7762, 12587, 11759, 2478, 6625, 4759, 8734, 3115, 7911, 6854, 9639, 10580, 11308, 9520, 5588, 15371, 10008, 7616, 11498, 9505, 6620, 6312, 13766, 7369, 8804, 11044, 7559, 5173, 10865, 9557, 9881, 15418, 10360, 9762, 9697, 11243, 8360, 8212, 10285, 11207, 8120, 8937, 3200, 8102, 5320, 8583, 11567, 9000, 6202, 10107, 7380, 8650, 12993, 7645, 6699, 6390, 3072, 3381, 7813, 11496, 9064, 4867, 16544, 8823, 8682, 4689, 7020, 11903, 7186, 12028, 11413, 11184, 12765, 7774, 11426, 3022, 6696, 7944, 8751, 11970, 10032, 7701, 5378, 5917, 7019, 12998, 4302, 9768, 4392, 4505, 9226, 8246, 7566, 5571, 9246, 7711, 9015, 7696, 9240, 8819, 6080, 7731, 9840, 9754, 4425, 7105, 10907, 12518, 7707, 15482, 7459, 7997, 8227, 6249, 12446, 12918, 12880, 8931, 8807, 6111, 11131, 8250, 8206, 11717, 10898, 11557, 9004, 4797, 7637, 8921, 8287, 7364, 10488, 7071, 7312, 5439, 6782, 7174, 9176, 7807, 8927, 10941, 8332, 12196, 10073, 7328, 9058, 3051, 3456, 5854, 6884, 4886, 5368, 9815, 8722, 6018, 12574, 6780, 11666, 5997, 12092, 2981, 8333, 14742, 5095, 12006, 5888, 11190, 13376, 2279, 13287, 9352, 7542, 11924, 10665, 10738, 4297, 6440, 7102, 4865, 9247, 7202, 10801, 14229, 13462, 11633, 7199, 5692, 11541, 5236, 10860, 8646, 11827, 14538, 8624, 9497, 12527, 3899, 12100, 12048, 7971, 15461, 5115, 13990, 5657, 11593, 10320, 11444, 8183, 4933, 8371, 10628, 11252, 12808, 5252, 6797, 4955, 9873, 7784, 10483, 9783, 7297, 14478, 4100, 5447, 3582, 6976, 6727, 11668, 7109, 12622, 6510, 7332, 10538, 6021, 8346, 5128, 9560, 10732, 12011, 9941, 9172, 11295, 13957, 7883, 8738, 7155, 7002, 8977, 11694, 9666, 8959, 13854, 15313, 7742, 6781, 13196, 9820, 6148, 10209, 8901, 7863, 11898, 9007, 5344, 13947, 7818, 13577, 11866, 9413, 7453, 10383, 12945, 10657, 11721, 10134, 10401, 8533, 2780, 4280, 5834, 10986, 8830, 11408, 11237, 9849, 15084, 12368, 8369, 5791, 10666, 12103, 7163, 5117, 10767, 11813, 4454, 7243, 11012, 7354, 10789, 6337, 2940, 8215, 6418, 11847, 12991, 9142, 7620, 11570, 8024, 9891, 9360, 11073, 7853, 6970, 8873, 11768, 9026, 13505, 4851, 9967, 11767, 10420, 6477, 6891, 15172, 9304, 7821, 10722, 9436, 5915, 3213, 10403, 9738, 6851, 9333, 7889, 12357, 15112, 7067, 6037, 11925, 5514, 5280, 9410, 10353, 11636, 9487, 12706, 3537, 7126, 7240, 6920, 7869, 12693, 12676, 12726, 13021, 11627, 8452, 7346, 6538, 13796, 11669, 10318, 7565, 13393, 12298, 9565, 9677, 5459, 12949, 9234, 7338, 9777, 6488, 10810, 9634, 15766, 10465, 11241, 4469, 5283, 8564, 14357, 11981, 10952, 8680, 11686, 8167, 8659, 7292, 14186, 13721, 5857, 3919, 11720, 9189, 5836, 6369, 11224, 5327, 5424, 8039, 10966, 10313, 9239, 9799, 7581, 12107, 4488, 2956, 12144, 13047, 4394, 16235, 2920, 6450, 8478, 7910, 8986, 4791, 4243, 3269, 12173, 11561, 11345, 12714, 13778, 13146, 8114, 10169, 6604, 12216, 5675, 6917, 8434, 8421, 6478, 2974, 6700, 8067, 7636, 11225, 5821, 9945, 4372, 4999, 11875, 11442, 5362, 8086, 10254, 6220, 13439, 13634, 12190, 8596, 9486, 13374, 14829, 6649, 4794, 8572, 5955, 5667, 10299, 10804, 12810, 5208, 8226, 10422, 4760, 14788, 11973, 10183, 9675, 8888, 7258, 6813, 7984, 9061, 10924, 8384, 9167, 12072, 9812, 7154, 8648, 4979, 9374, 7441, 12806, 7384, 5879, 10881, 14327, 6774, 7257, 7610, 11922, 6084, 2637, 11560, 6041, 11659, 8747, 6442, 5035, 7977, 4414, 9963, 9822, 7398, 15191, 7719, 8293, 10688, 11253, 6269, 3878, 5370, 6842, 11784, 9458, 6146, 7360, 9161, 9317, 13038, 2538, 8433, 11116, 11282, 9655, 14196, 11917, 13126, 15378, 9063, 9576, 8504, 7926, 2993, 8618, 6180, 5626, 4742, 10706, 6222, 3108, 8590, 11185, 10905, 13148, 9274, 12590, 10408, 11484, 10327, 10632, 17386, 17719, 10507, 4279, 8311, 7127, 7656, 12280, 9739, 7909, 10376, 8603, 12954, 6140, 3659, 11374, 7143, 14570, 10842, 6909, 2880, 13876, 6552, 9121, 7871, 11306, 8808, 9205, 10432, 10472, 15357, 4159, 8047, 3699, 4084, 9126, 7956, 10104, 7357, 14719, 2721, 9950, 3862, 4064, 8998, 12123, 7714, 6294, 16179, 14344, 7660, 8143, 6823, 10445, 5864, 6019, 8952, 4145, 2947, 10862, 9972, 11043, 9979, 12439, 9392, 7253, 11736, 9109, 4770, 9146, 5974, 4805, 3815, 13020, 6345, 10056, 13861, 6181, 13008, 12692, 12367, 11213, 9501, 5971, 8125, 8620, 11296, 10785, 3684, 4984, 12249, 7668, 7046, 7695, 3974, 4673, 13365, 10085, 10522, 14532, 8696, 10460, 4049, 9203, 10163, 11523, 9674, 6931, 5734, 16630, 6551, 6443, 9527, 9507, 9200, 11710, 7057, 12421, 8077, 8683, 17614, 7854, 11046, 3512, 10838, 6198, 12212, 8063, 6546, 11130, 13926, 9931, 7116, 13877, 6203, 4111, 10090, 12362, 7487, 6688, 10938, 11247, 6983, 4494, 2772, 14424, 4264, 4565, 10023, 11441, 2547, 14081, 11588, 6687, 6092, 14681, 9242, 13951, 9343, 7088, 5939, 9519, 8284, 9508, 11231, 11612, 11910, 11833, 9194, 7855, 8767, 7367, 12841, 5808, 10944, 4144, 13344, 12188, 9208, 13495, 4098, 6877, 6124, 3939, 11115, 15180, 2988, 9472, 12634, 6417, 8402, 10216, 9633, 9833, 8544, 8827, 12761, 7608, 13982, 10414, 12409, 5540, 9599, 6177, 4329, 14167, 11155, 9992, 9923, 16333, 11159, 9271, 8759, 11492, 11192, 13413, 10951, 6153, 10975, 6735, 11212, 12257, 16133, 10271, 11953, 11576, 13298, 7472, 7768, 7763, 11505, 8234, 5325, 6561, 4102, 7075, 9537, 11554, 16334, 12467, 4681, 12839, 6709, 11855, 9721, 9402, 8531, 7503, 10694, 8743, 10713, 7916, 3745, 10634, 9654, 11863, 4207, 4522, 7739, 10689, 13862, 14653, 5409, 9803, 9668, 12926, 5601, 2670, 10162, 15366, 6752, 5354, 5244, 6804, 9243, 10771, 12551, 15217, 6183, 7051, 10395, 9679, 6099, 3782, 6572, 3780, 12687, 6068, 6335, 10458, 9432, 6809, 9729, 8589, 9628, 10822, 12641, 6063, 9125, 12120, 11771, 10323, 8298, 10567, 4768, 7902, 10553, 12343, 10248, 10370, 5923, 11055, 7811, 6536, 2715, 9901, 7840, 11334, 3924, 9327, 6749, 16177, 6936, 8256, 5713, 6205, 11351, 13627, 5086, 11951, 2542, 8342, 11572, 10667, 5511, 11122, 8898, 10999, 9023, 9493, 12959, 7878, 5104, 8703, 5547, 5771, 9478, 11815, 8645, 7767, 8605, 11232, 13402, 5545, 9543, 10416, 6639, 7958, 10102, 10350, 11294, 14954, 8775, 5740, 11463, 9795, 11995, 6686, 11353, 4138, 8702, 16289, 6468, 6102, 7894, 10166, 8221, 8868, 15491, 10402, 4370, 3946, 7931, 7254, 2282, 13717, 5919, 9793, 9514, 8261, 7928, 7758, 5296, 5206, 10659, 11061, 9302, 7309, 12915, 5760, 12667, 14227, 3252, 3983, 13752, 5783, 6246, 9614, 10223, 6695, 9296, 7188, 13027, 13250, 5043, 3776, 12017, 8205, 3175, 10989, 3275, 8069, 12677, 3150, 10955, 11846, 11373, 8012, 10503, 5077, 3972, 10748, 9756, 13274, 9731, 5505, 11546, 4376, 12746, 9552, 6243, 4812, 13493, 12924, 2388, 7389, 10943, 4523, 6899, 9705, 12758, 10926, 6853, 7802, 9111, 13744, 6051, 11563, 11342, 13386, 10631, 14056, 13133, 11998, 7764, 4774, 5225, 9558, 11757, 9469, 4412, 11331, 12901, 10279, 9021, 9991, 9222, 6697, 10909, 11872, 7728, 8010, 5591, 5883, 7168, 9872, 11616, 4077, 5376, 10577, 6606, 14271, 7949, 13193, 6123, 6235, 14101, 12766, 11685, 12269, 3548, 12008, 11148, 3670, 3112, 9889, 13997, 11511, 12289, 5155, 5701, 8241, 6244, 13960, 6499, 13911, 8466, 8380, 8090, 6921, 5650, 10011, 3698, 15761, 12134, 7943, 9103, 15292, 10520, 13818, 8054, 12821, 8508, 12436, 13074, 10431, 9797, 4166, 8322, 7998, 2628, 5001, 5763, 10981, 7592, 6212, 8283, 9110, 10595, 7933, 9678, 15183, 13341, 11401, 7658, 13049, 11825, 3644, 10751, 9393, 8562, 9149, 6403, 8736, 8461, 11086, 3597, 12211, 5072, 7641, 12594, 9275, 7841, 11727, 8785, 4170, 13168, 9669, 2745, 10131, 10295, 12441, 11443, 12735, 8202, 7013, 13379, 11140, 10859, 4135, 10155, 10185, 8203, 9216, 5698, 15181, 10382, 7474, 9388, 6166, 13251, 7325, 11464, 7548, 11501, 11352, 12762, 14503, 6522, 10083, 14879, 8818, 4572, 10660, 12847, 3818, 10693, 9495, 12803, 11112, 11199, 8286, 13212, 10848, 13448, 7546, 12828, 15403, 13983, 11674, 6223, 5592, 12812, 8606, 10173, 6621, 8669, 9181, 7012, 13109, 13144, 15669, 9703, 5471, 8436, 13041, 10735, 7306, 6494, 7514, 7689, 6078, 11084, 7311, 5870, 10231, 11388, 13615, 11992, 7750, 9953, 13701, 2997, 11001, 6347, 7414, 10823, 13416, 9955, 10817, 4603, 6914, 4520, 3975, 11244, 6424, 10259, 9129, 12967, 3539, 3709, 8354, 10773, 7209, 9550, 7628, 5529, 11149, 5276, 9138, 7819, 6100, 12386, 14737, 6384, 4426, 6825, 2951, 5970, 5950, 13840, 5806, 8414, 9573, 14678, 12474, 12869, 8602, 10171, 9621, 11379, 8306, 5630, 11994, 14816, 8548, 9257, 3984, 3209, 12108, 5120, 4307, 9408, 10444, 7302, 9273, 14941, 14969, 10233, 9583, 8204, 9569, 16047, 14923, 14905, 12007, 8245, 13974, 3479, 7203, 9323, 3391, 12218, 3827, 8088, 12276, 8514, 5374, 9107, 7996, 5087, 4390, 6000, 4682, 13503, 7164, 9850, 9463, 6368, 3427, 9847, 7625, 9449, 11952, 12136, 9922, 15026, 10039, 5946, 14696, 7710, 10712, 12709, 7434, 2704, 5582, 16340, 10068, 10086, 3075, 8420, 12365, 5401, 11618, 5489, 4301, 8782, 11227, 8708, 6185, 10451, 10626, 15609, 7318, 8045, 3384, 12248, 11383, 7098, 11884, 6143, 6652, 8609, 9154, 8709, 7657, 12149, 8490, 12906, 3453, 7847, 5670, 11959, 16037, 11416, 9115, 13422, 7279, 8162, 2626, 8832, 10303, 13470, 9217, 9279, 6662, 6682, 6534, 11834, 12637, 11844, 16358, 12334, 9874, 10637, 5490, 9811, 5113, 7113, 9362, 10510, 8665, 6675, 8065, 5388, 11849, 6634, 14507, 9204, 7028, 8497, 3396, 5818, 9069, 5920, 10050, 3310, 8914, 13956, 5567, 6844, 12878, 5817, 14635, 10953, 5330, 9237, 8690, 8758, 10325, 14427, 5789, 12161, 14383, 4053, 6164, 8257, 10565, 4726, 9093, 6400, 7235, 6216, 9500, 5711, 13936, 2563, 6836, 9534, 4948, 2505, 10101, 9672, 13496, 8288, 11750, 16500, 12965, 8634, 4734, 5543, 15757, 12876, 16601, 9510, 2557, 12546, 10677, 8772, 11840, 8849, 14555, 7147, 6676, 8803, 11788, 11653, 9809, 5580, 7643, 12071, 7317, 11852, 10441, 8479, 6587, 9289, 10914, 6657, 3263, 13085, 11135, 10998, 4855, 3970, 11578, 4270, 14429, 7378, 11059, 9403, 7761, 2876, 10264, 14034, 5345, 3449, 9925, 6493, 11036, 6977, 12754, 10361, 7193, 8336, 10380, 7084, 9656, 10358, 7089, 5445, 14138, 11708, 11600, 9975, 11029, 7134, 7418, 14054, 5816, 11748, 5940, 13407, 8213, 6393, 8829, 9983, 8450, 8705, 10550, 10496, 4331, 4541, 7865, 9321, 11699, 6756, 9262, 7765, 4480, 7899, 9682, 12091, 7588, 7408, 13378, 7866, 5137, 6956, 5281, 12131, 5893, 5598, 9780, 15571, 8813, 10344, 12198, 9635, 9169, 12871, 9236, 5384, 5599, 6927, 7679, 12068, 14491, 10357, 5290, 11882, 12275, 13591, 9498, 5479, 8824, 4904, 8152, 11493, 6876, 8037, 11701, 9805, 11556, 10610, 10556, 13921, 7789, 10691, 7008, 9841, 14109, 9341, 9253, 6885, 8140, 14301, 6176, 12213, 2068, 6666, 4730, 5411, 10246, 8352, 7366, 8993, 9163, 9254, 12642, 8087, 6937, 4385, 10213, 11467, 8679, 11156, 8916, 11936, 7282, 11614, 10434, 6310, 12702, 5850, 5613, 7329, 8368, 10728, 8103, 9714, 4796, 10456, 13414, 9264, 11886, 12013, 11121, 10482, 7989, 10238, 8299, 8608, 8066, 6012, 8491, 15463, 9046, 12413, 9387, 8833, 10799, 11568, 9802, 4624, 11079, 14305, 9898, 10338, 5491, 10078, 7830, 7825, 13513, 9559, 7092, 11608, 13754, 10589, 13624, 12968, 13326, 8674, 5191, 13487, 13453, 8985, 6240, 8329, 9553, 7439, 8220, 6795, 11888, 8729, 10747, 4214, 4060, 7440, 11684, 6059, 10679, 5980, 8093, 7621, 2444, 10274, 3860, 7027, 10047, 8231, 12398, 9377, 3063, 14318, 4542, 10993, 7730, 11141, 7248, 9450, 6734, 10012, 11965, 12713, 8443, 6190, 12575, 11531, 3290, 7683, 3792, 5263, 13138, 10730, 8534, 9615, 12531, 7402, 11289, 10978, 15238, 11210, 14765, 6254, 8223, 12004, 12026, 7110, 3392, 13118, 9280, 11170, 8741, 5111, 9517, 12170, 11838, 10365, 14516, 8001, 5961, 12995, 7506, 12083, 10954, 5109, 6437, 12910, 6293, 4501, 5729, 8030, 4403, 5549, 3415, 10974, 6466, 12818, 7584, 11063, 7485, 9813, 12755, 11574, 16496, 3606, 10540, 9787, 10064, 9233, 15257, 14017, 14263, 13171, 5985, 13081, 3096, 8755, 5869, 6483, 10057, 4939, 8285, 12113, 4680, 15089, 6229, 14739, 7528, 9084, 11520, 12397, 5306, 7833, 9572, 6846, 4789, 12486, 7577, 8273, 10197, 12928, 14709, 8425, 12148, 6772, 5444, 11789, 5468, 7633, 2937, 9790, 9041, 2621, 9995, 6952, 16165, 8251, 12932, 11250, 11162, 8098, 5237, 6073, 4956, 11602, 5826, 6954, 4423, 15753, 7000, 6792, 7999, 4640, 13303, 3501, 5579, 7790, 4343, 8658, 2888, 8396, 6526, 2061, 13420, 4225, 5085, 4266, 8672, 7331, 10266, 11765, 10708, 7305, 2459, 11682, 9080, 10921, 6008, 6933, 8903, 10698, 8141, 10551, 11915, 4267, 7722, 4718, 9210, 10239, 5217, 10097, 7773, 9456, 11311, 12736, 7857, 3544, 11901, 14794, 6114, 10814, 9718, 11313, 11931, 10900, 8275, 3198, 9438, 11206, 7289, 7545, 6374, 6549, 7766, 10734, 11842, 13477, 6152, 8295, 8170, 12304, 7925, 12261, 9123, 6988, 8473, 12811, 2464, 5049, 5646, 6671, 7648, 2800, 13201, 10778, 3219, 12480, 3546, 10643, 2964, 10489, 6972, 3466, 8632, 13127, 12905, 9376, 8929, 11517, 6683, 7438, 8483, 11033, 6445, 10324, 10034, 2625, 8576, 10206, 10409, 11054, 13032, 8217, 4549, 14413, 7270, 5671, 2822, 12322, 10334, 7644, 12055, 5968, 13087, 12340, 5419, 8573, 8439, 7736, 6333, 8186, 4258, 7178, 8973, 5983, 3194, 12239, 9875, 12445, 11173, 11583, 3599, 10857, 12253, 10533, 9730, 11657, 12733, 10590, 14309, 3046, 6314, 10684, 8355, 8992, 9796, 13264, 10791, 5497, 5753, 8885, 8791, 13799, 8381, 11641, 5288, 8316, 4963, 5862, 13455, 7682, 6128, 7137, 13277, 8884, 7738, 11735, 14634, 8397, 11742, 10062, 15739, 5356, 9231, 3014, 8099, 5693, 9586, 6710, 10885, 7499, 2752, 14358, 4586, 6327, 11779, 8958, 11867, 11398, 10262, 5492, 12176, 10670, 4533, 13887, 11187, 13427, 8492, 4013, 12615, 9068, 8192, 8064, 11832, 12339, 10516, 14420, 5827, 13359, 7226, 11261, 4192, 5764, 9347, 7262, 6342, 5063, 2150, 2454, 5436, 4008, 8038, 10201, 7497, 11658, 7363, 2341, 7146, 3955, 13247, 9896, 14644, 10923, 11874, 13094, 10277, 9143, 3156, 4567, 9135, 9407, 12101, 11109, 4253, 10469, 11291, 6737, 9531, 9877, 10128, 5400, 3186, 15273, 12612, 10599, 9816, 4353, 11703, 6841, 8084, 7517, 12085, 3189, 11550, 5381, 11790, 16383, 9807, 11707, 2556, 4763, 7951, 6132, 9351, 3771, 11016, 5234, 4974, 11592, 3254, 7510, 5395, 11385, 15170, 7021, 14851, 12911, 12294, 9864, 8401, 9627, 11257, 7241, 11551, 4208, 9728, 10922, 8185, 15367, 6085, 5421, 9335, 13300, 12815, 11147, 16969, 7603, 10663, 7615, 8720, 9657, 8216, 6558, 10837, 6122, 5807, 5183, 12698, 9597, 2798, 2682, 7446, 7516, 11781, 8200, 8418, 8271, 7580, 10968, 4486, 9957, 6050, 9106, 4252, 10397, 10010, 10697, 6831, 6708, 10251, 7732, 7717, 12142, 9886, 12813, 6754, 9608, 5037, 14720, 9047, 7435, 5107, 6939, 2485, 10899, 11037, 5000, 10025, 8225, 3791, 9843, 8040, 4052, 7735, 6237, 5090, 11382, 10868, 13231, 13508, 7034, 4380, 15768, 4200, 10110, 10593, 11499, 6660, 4174, 6902, 5536, 7992, 13096, 11105, 10391, 4348, 5887, 5462, 14620, 9482, 11942, 6958, 13878, 12114, 11258, 11801, 5394, 8694, 5110, 8032, 11128, 13268, 10509, 10326, 5274, 10611, 3796, 4482, 15466, 12979, 9032, 7229, 5309, 12948, 8131, 10546, 3559, 9640, 13780, 6673, 9526, 7982, 12731, 7175, 4506, 3913, 11286, 5423, 5433, 6812, 8904, 9186, 8912, 5875, 3018, 6409, 4259, 6065, 4442, 4186, 8678, 5165, 10082, 7953, 13165, 7026, 13749, 11494, 13343, 13360, 8357, 5435, 3586, 7793, 10018, 11161, 8938, 7039, 10184, 12399, 12556, 10758, 7716, 2725, 8684, 8016, 4649, 15321, 3515, 7814, 13961, 7912, 4355, 8135, 4806, 12952, 7563, 8571, 11820, 9049, 7567, 12231, 6784, 8639, 12718, 11251, 7268, 8771, 10932, 6364, 8717, 10617, 17899, 6815, 10873, 9308, 7135, 10368, 3028, 10883, 2300, 8015, 8424, 7437, 10203, 14628, 5265, 10366, 4862, 13851, 3082, 10958, 9401, 5340, 9188, 10739, 10480, 7185, 7619, 5992, 6762, 5386, 13141, 6963, 12140, 2500, 11923, 10374, 12411, 11606, 15662, 12404, 11163, 3660, 6167, 7069, 9128, 10205, 8136, 5251, 11809, 13981, 6492, 11737, 16143, 14665, 10555, 5871, 7321, 6348, 8594, 9735, 11961, 4811, 4248, 3245, 8529, 15256, 10645, 5078, 5868, 8971, 7627, 6947, 9481, 3853, 5912, 9152, 6313, 4968, 8765, 4286, 10036, 11824, 5628, 4996, 5889, 4783, 10202, 6475, 6562, 8595, 13107, 3039, 11914, 8447, 9083, 4869, 9899, 4599, 8685, 13215, 5058, 11933, 8000, 12074, 5228, 3336, 13194, 6953, 4472, 10044, 12498, 11249, 5066, 2810, 8036, 9249, 12769, 7009, 7667, 7553, 10526, 8031, 13229, 8577, 7900, 7320, 8713, 8739, 3077, 12620, 5910, 12767, 10076, 9250, 5557, 8629, 5387, 10897, 8660, 15196, 5987, 7835, 8303, 8427, 6648, 10059, 11120, 7741, 8581, 9670, 8168, 2681, 9428, 12519, 6871, 9437, 9713, 8048, 4511, 6863, 2696, 9724, 6317, 12152, 5643, 7572, 8312, 12690, 9325, 13293, 12505, 6473, 3091, 10988, 7905, 10783, 7115, 3673, 7914, 10463, 7470, 6179, 17134, 12503, 9082, 9499, 8579, 8078, 8033, 6627, 4737, 12985, 4752, 13474, 9652, 6653, 5226, 14024, 11008, 14874, 7942, 13995, 8211, 8615, 2239, 2803, 9817, 8474, 9585, 15528, 6435, 10756, 2429, 10794, 7333, 11828, 3662, 13369, 14456, 8218, 6588, 3452, 11725, 10181, 9150, 12584, 9443, 12315, 6728, 5341, 10721, 8150, 6113, 8208, 4732, 9755, 8627, 9856, 5717, 8711, 3632, 13879, 9299, 2443, 11565, 6913, 12258, 10933, 11287, 6881, 13515, 7858, 5108, 6630, 4728, 12279, 4137, 6805, 7158, 14078, 13984, 14146, 9605, 10194, 8149, 8020, 7733, 12679, 4793, 3636, 11223, 7083, 9108, 9475, 6644, 2788, 9028, 13355, 9017, 9936, 8113, 9430, 9363, 5539, 14462, 9712, 8112, 11399, 9484, 11194, 9887, 7845, 4391, 3678, 8552, 9834, 7901, 5770, 14498, 2379, 11003, 13568, 9942, 5139, 6996, 13442, 6810, 12686, 6217, 6609, 6704, 5494, 9594, 14716, 10640, 9871, 9267, 8535, 8214, 13392, 8557, 13930, 3001, 4803, 11081, 11245, 8948, 15733, 5766, 15122, 9960, 15508, 6433, 9664, 11843, 10143, 8924, 5963, 7676, 3306, 14588, 7090, 10987, 3623, 5758, 6505, 7934, 6830, 4554, 4613, 8841, 11537, 11157, 10329, 8607, 13156, 9190, 10530, 12496, 8359, 12419, 13209, 10671, 3519, 6703, 10656, 7486, 5246, 7307, 7215, 10446, 5930, 7725, 7156, 8370, 7654, 4263, 5944, 10450, 10454, 11566, 10218, 5415, 7745, 8779, 6020, 13486, 5533, 9798, 5780, 10276, 3787, 11584, 16705, 8778, 10695, 10237, 9030, 12603, 11393, 2958, 2707, 8458, 6284, 6631, 7704, 13245, 4654, 9214, 10965, 8861, 5831, 9156, 8364, 11436, 15018, 10994, 8511, 14240, 8244, 5965, 12606, 9416, 7128, 6479, 7330, 2089, 8229, 10563, 14158, 2785, 9283, 10061, 9698, 14103, 10928, 10153, 12378, 9319, 10845, 4606, 13002, 6738, 5876, 7445, 11564, 9297, 2387, 8292, 11280, 9180, 6302, 9702, 13259, 9406, 11113, 9144, 13111, 6375, 10705, 7298, 13888, 8560, 3714, 15224, 5942, 3566, 11390, 8774, 10154, 13366, 14391, 3270, 12331, 8591, 10612, 3596, 8181, 7161, 8593, 10524, 8034, 11589, 10548, 4262, 13233, 7831, 5637, 4323, 8428, 12649, 6707, 8816, 11890, 6628, 15653, 12256, 3563, 5027, 5647, 12354, 8230, 17311, 13329, 6118, 12976, 7522, 2007, 8630, 9958, 6054, 14049, 7095, 3535, 7534, 7148, 5685, 12124, 10065, 10675, 3472, 9460, 10405, 9644, 5565, 2129, 2099, 5397, 5520, 4922, 10100, 12621, 8109, 10539, 9592, 11019, 5506, 7228, 13998, 10622, 9445, 10013, 9038, 8061, 7189, 13406, 5779, 15530, 12981, 3959, 14830, 12217, 11067, 12763, 2233, 11634, 14178, 11060, 5986, 12223, 13996, 2437, 2104, 7001, 2967, 9340, 8656, 8022, 10312, 12125, 13130, 5152, 7023, 8049, 9024, 4753, 7123, 13872, 6857, 12284, 12863, 10095, 6354, 9997, 12412, 2483, 5903, 8554, 3749, 3617, 13364, 7605, 8274, 7214, 4473, 6088, 6590, 10342, 9124, 13181, 9373, 6866, 8935, 10636, 11177, 8569, 11949, 10159, 11303, 11080, 7107, 7250, 10518, 11260, 4987, 5011, 13461, 7747, 6077, 9183, 12179, 11274, 3441, 11785, 3354, 6974, 8374, 8864, 9465, 9976, 8173, 6859, 12922, 9390, 8193, 8052, 8732, 3109, 8989, 5891, 12106, 8825, 11142, 4836, 9098, 4750, 10053, 9616, 12095, 14489, 9307, 8565, 2945, 11421, 7523, 11950, 8600, 6755, 9134, 10834, 4838, 12580, 7259, 12516, 5913, 6029, 6130, 4916, 6771, 13106, 11215, 2841, 10113, 11180, 6568, 9946, 5907, 5425, 3819, 7954, 9763, 7940, 10982, 10001, 8415, 7479, 8875, 9120, 12403, 8405, 11380, 9810, 6790, 9359, 10984, 9853, 9358, 14589, 3712, 8955, 4134, 8756, 8893, 5426, 7639, 15529, 11032, 9978, 4117, 11139, 13768, 11321, 13748, 6529, 7490, 4184, 10512, 8356, 11713, 7848, 9427, 8689, 11335, 4352, 5802, 5032, 8697, 10398, 5541, 10505, 12274, 10167, 10470, 9258, 4007, 6640, 14250, 2809, 10136, 14293, 12351, 2821, 10084, 8268, 10123, 10971, 14288, 11509, 14746, 7638, 7299, 10281, 11769, 4856, 7993, 5054, 3197, 14048, 6793, 8122, 9545, 6542, 10300, 7334, 10620, 7449, 2406, 9722, 12476, 16717, 7504, 3100, 11272, 8127, 12323, 9468, 8587, 4517, 15474, 5367, 4593, 8945, 7386, 8289, 10229, 6514, 4749, 12672, 8676, 9184, 5526, 4218, 9794, 13804, 15799, 7003, 14623, 12581, 8347, 7345, 5911, 4476, 7552, 12450, 6362, 9727, 7903, 7220, 7879, 9251, 6677, 8158, 8460, 8372, 6566, 7190, 3990, 14169, 9489, 10917, 13869, 8991, 3784, 11218, 4607, 6061, 15065, 10718, 13828, 4687, 9215, 10508, 11371, 7834, 6736, 12456, 3615, 3881, 8014, 10207, 12485, 8559, 4474, 6259, 6034, 4349, 9088, 3195, 4887, 10142, 5979, 7720, 11256, 14694, 6446, 11144, 6916, 8527, 11432, 11020, 8879, 9182, 12410, 10411, 2307, 12423, 2113, 12884, 10979, 13220, 5410, 11394, 10498, 10093, 5161, 9786, 12673, 9055, 5351, 10035, 6321, 6862, 13169, 7430, 4209, 6889, 11969, 12117, 13738, 7452, 9232, 6386, 12098, 10145, 11453, 7987, 3825, 10575, 12780, 6434, 6636, 11126, 9389, 3736, 6564, 9746, 5843, 13353, 12121, 9943, 12699, 8899, 5046, 6231, 5625, 3229, 6110, 12572, 5103, 6165, 12356, 3360, 8917, 10597, 4614, 9629, 9940, 6765, 12353, 11864, 10596, 13559, 5885, 8082, 9372, 6722, 13155, 9220, 15818, 8760, 11724, 8987, 2375, 13157, 4300, 11805, 10629, 10841, 5957, 6004, 6137, 4238, 8392, 8503, 12628, 13672, 5273, 14898, 10041, 14046, 12040, 8235, 11343, 10703, 13976, 16231, 11365, 13188, 13046, 2120, 11312, 11119, 11987, 9397, 5584, 13847, 7230, 14993, 13816, 6370, 3300, 10189, 15108, 8178, 15677, 9711, 12665, 6385, 10681, 4116, 4205, 13949, 14384, 7995, 12944, 5570, 6912, 10919, 8723, 4690, 9977, 10892, 8663, 13010, 9044, 6955, 14781, 6919, 2763, 5443, 7160, 11446, 15298, 11555, 16758, 10089, 9197, 6002, 9648, 7443, 11188, 10474, 4847, 6025, 3612, 14621, 11983, 10901, 12707, 7829, 6463, 12327, 12243, 15289, 9788, 13262, 11182, 7122, 9357, 4788, 11136, 9829, 4326, 12494, 11430, 9238, 6560, 9002, 9857, 9619, 5538, 7898, 3106, 4844, 9687, 14565, 5114, 9617, 12286, 14237, 8908, 7799, 9031, 6867, 7837, 4924, 9720, 8290, 14845, 7609, 6233, 9314, 8455, 10071, 4512, 4798, 14543, 3642, 9174, 13017, 5839, 10668, 11452, 2761, 14860, 10561, 7015, 12288, 4303, 8153, 7810, 11171, 9276, 2597, 8956, 5390, 8664, 4148, 6743, 12460, 7256, 11919, 10273, 8111, 13390, 4507, 12168, 8730, 5245, 8291, 5921, 13246, 4612, 10256, 12379, 12126, 4655, 7872, 16142, 8976, 9695, 3463, 10081, 6570, 13226, 5813, 6557, 4795, 10447, 16818, 6997, 9791, 7361, 9155, 9973, 9878, 12720, 12858, 10410, 14448, 10566, 14487, 10769, 10800, 2832, 9490, 7165, 8745, 6808, 4814, 6911, 10027, 9745, 8509, 12610, 14852, 5318, 4900, 5660, 6471, 9367, 10144, 9282, 14302, 11205, 9778, 3891, 8338, 9166, 17258, 5405, 6554, 8484, 10784, 8324, 7529, 14412, 7349, 5801, 14129, 4765, 4623, 6049, 8482, 10850, 2032, 5193, 11968, 12302, 11733, 9419, 11088, 12695, 8350, 5407, 9008, 6547, 14449, 5441, 11525, 14710, 11655, 5544, 10341, 11389, 6221, 9512, 7629, 15692, 4383, 7875, 12039, 3533, 4832, 11200, 6907, 13805, 13789, 10317, 4057, 8410, 9379, 9548, 6182, 8146, 4912, 10249, 13295, 7990, 8349, 7806, 3170, 9213, 7797, 8858, 14887, 7929, 9985, 3490, 10790, 8925, 10621, 3110, 12992, 7816, 5457, 13609, 7938, 9516, 7525, 10872, 6897, 7390, 8264, 12875, 3846, 8604, 4825, 4529, 12633, 8341, 15300, 6038, 10709, 15667, 4701, 11663, 5186, 6840, 11955, 7198, 7117, 13811, 6328, 6396, 11367, 7688, 6353, 5585, 10336, 6197, 4087, 14156, 11435, 9281, 4453, 6273, 9523, 9349, 5795, 16051, 3622, 6355, 13718, 11347, 12522, 7809, 8790, 10127, 7263, 14810, 2690, 4923, 11810, 9561, 8263, 10195, 7052, 4704, 6026, 12986, 8068, 9328, 6096, 10125, 11601, 5331, 8021, 5555, 11420, 8936, 6336, 9137, 12573, 6767, 5305, 5042, 7684, 11845, 8799, 10433, 8671, 15673, 10864, 8872, 2042, 9879, 13091, 12626, 4700, 12427, 10598, 13273, 11096, 8651, 3886, 9851, 14870, 10811, 4181, 11647, 4099, 9255, 10977, 6039, 4289, 5292, 5976, 11072, 6332, 16326, 7035, 7351, 4193, 12654, 10400, 11263, 2441, 7191, 5070, 8871, 4928, 8788, 3777, 5799, 11038, 2932, 8145, 10286, 13441, 7341, 5429, 4938, 4420, 14025, 7463, 8811, 7217, 10604, 12060, 6833, 8477, 11533, 8796, 10661, 7673, 7851, 11327, 7896, 15541, 5233, 5079, 3988, 14233, 13734, 11522, 10749, 7359, 13338, 9132, 10816, 10586, 7219, 11409, 7541, 13980, 6960, 6158, 2220, 4247, 5989, 6297, 12552, 12407, 13648, 7394, 7970, 7694, 10270, 4153, 12553, 11300, 9894, 10091, 8525, 5519, 11982, 4592, 2065, 11978, 8522, 8942, 6769, 7960, 8393, 7124, 9104, 7267, 13073, 10809, 6890, 7073, 12383, 5196, 5504, 10193, 10788, 7462, 11774, 5200, 10724, 7494, 8852, 14168, 8096, 4070, 16893, 10915, 9689, 4874, 9444, 7221, 14031, 10152, 10352, 13271, 8907, 12753, 6191, 5475, 15398, 9315, 8313, 12597, 13618, 3866, 10094, 12989, 13040, 13162, 4845, 16022, 3933, 5192, 12266, 12023, 13613, 13563, 4046, 3750, 5030, 7801, 10473, 12786, 9719, 12545, 7974, 2948, 14442, 8891, 10388, 9179, 9059, 13433, 4947, 14039, 10664, 13806, 9078, 9062, 10603, 3872, 9885, 10349, 12681, 7304, 8237, 7544, 11378, 10345, 15854, 8766, 11739, 6367, 5745, 8343, 8432, 7120, 13579, 8837, 8530, 9079, 3321, 13388, 12953, 4786, 9509, 3609, 13560, 5360, 3007, 9293, 3355, 8172, 8059, 3985, 2746, 8553, 10468, 12722, 7852, 9804, 8797, 7242, 8653, 2779, 7782, 9404, 10674, 7558, 16421, 3444, 13055, 4521, 9906, 6319, 6429, 3086, 7287, 7251, 3161, 17661, 12210, 4240, 8920, 14458, 12675, 7180, 14723, 11010, 10255, 12329, 4705, 8578, 11030, 2954, 12544, 10435, 9882, 5956, 5559, 4395, 5560, 5542, 6439, 14597, 10278, 7236, 8104, 6184, 15623, 10904, 5266, 7286, 8297, 9474, 13092, 15006, 11795, 9260, 13387, 12537, 14019, 9750, 8846, 10247, 7597, 4378, 5610, 13603, 7651, 6665, 11005, 6922, 3011, 12703, 6693, 10753, 8513, 11219, 8780, 11528, 14638, 15448, 14115, 15029, 9808, 6651, 8398, 8693, 11766, 4042, 13975, 11186, 15200, 8856, 8348, 11117, 9252, 12830, 3155, 6511, 10217, 13835, 5440, 14062, 10049, 6766, 14338, 6940, 6820, 3767, 14278, 10192, 14390, 11591, 11640, 11905, 12332, 9037, 8083, 5047, 10692, 11396, 8946, 9570, 7826, 11526, 14669, 6316, 15638, 12719, 5133, 7923, 8079, 6882, 4152, 10792, 9563, 4294, 5006, 12390, 8761, 12380, 4398, 14174, 8545, 9649, 12592, 9610, 4318, 3602, 9748, 9094, 5321, 9758, 14036, 5308, 6855, 9927, 11183, 8828, 7234, 5156, 12381, 3832, 2631, 8704, 11014, 16734, 13352, 7264, 11615, 14182, 5406, 10175, 9459, 7700, 6007, 7495, 7065, 10531, 10653, 7184, 6669, 2535, 8134, 3960, 5941, 5825, 13225, 6432, 11518, 10725, 9212, 4980, 3987, 11040, 7072, 9099, 7665, 4527, 9455, 4778, 14760, 11530, 11709, 10428, 9073, 9568, 4911, 7994, 11431, 4430, 13602, 4228, 14873, 6992, 7650, 8046, 6817, 7050, 6603, 4236, 14767, 13066, 14980, 3212, 7070, 14154, 5239, 4485, 5157, 6389, 7980, 6487, 5500, 13939, 6923, 11529, 7822, 3342, 3470, 4685, 6744, 4464, 8373, 6865, 8305, 7216, 10579, 4468, 7423, 9244, 11996, 8568, 5835, 8115, 10096, 6548, 11798, 8970, 10437, 7632, 12000, 7269, 6852, 4833, 4197, 5240, 5563, 9769, 11278, 9477, 4908, 8909, 10920, 12438, 15839, 4006, 3958, 6622, 4539, 5151, 11660, 8643, 10766, 6419, 9229, 12402, 2927, 3159, 9411, 4932, 12955, 12206, 8794, 8662, 3017, 11027, 13078, 14682, 12065, 7017, 3530, 13491, 13724, 4478, 13016, 13103, 12724, 9171, 5451, 10386, 5255, 6109, 14183, 14609, 8612, 9471, 2019, 6178, 6287, 11680, 14441, 10651, 2961, 13437, 9396, 12116, 4588, 3810, 13779, 9207, 5174, 7751, 10087, 6864, 8335, 12043, 4896, 4731, 11577, 9235, 7211, 12430, 9919, 10594, 7212, 6142, 4216, 6303, 9290, 9452, 9835, 6678, 4136, 11473, 7948, 4421, 13987, 10174, 7080, 15864, 9773, 9206, 11816, 7808, 7754, 10298, 7197, 10211, 8860, 9350, 11654, 6383, 8367, 9651, 8195, 6664, 8836, 7618, 9515, 11732, 12524, 9706, 11912, 8144, 7715, 9709, 4648, 6311, 5572, 12044, 14433, 9423, 3331, 7705, 13048, 12246, 11018, 14166, 8536, 13172, 7549, 8582, 12159, 9771, 9054, 11881, 8524, 8902, 8698, 9683, 8279, 4434, 8838, 15765, 5904, 8880, 9579, 11979, 10870, 6873, 13227, 5747, 8179, 8423, 9939, 10252, 8330, 7471, 13714, 11902, 6691, 11208, 10017, 8314, 8108, 8042, 7647, 8060, 7897, 4041, 14677, 9549, 6028, 15413, 10819, 9191, 9114, 2165, 10793, 4160, 10719, 12492, 9917, 2662, 8361, 12272, 6893, 5775, 9836, 14759, 7377, 7884, 8733, 9168, 8505, 12689, 9300, 5392, 11404, 13542, 9485, 12449, 10824, 5287, 9636, 13499, 5762, 7726, 8161, 14610, 9504, 11976, 6659, 9042, 3144, 11763, 2446, 5199, 10583, 12079, 11062, 3829, 6486, 11540, 3389, 16044, 6498, 4004, 6807, 15207, 11384, 7915, 3410, 2653, 12084, 2351, 6236, 7016, 12301, 7489, 6322, 13301, 8003, 10280, 8448, 7564, 8044, 9838, 9587, 4250, 10306, 15575, 12796, 4631, 12648, 8481, 6173, 2919, 6097, 4707, 6387, 4714, 6117, 8570, 13284, 10815, 7626, 11743, 11267, 4678, 15910, 12631, 6764, 9937, 9842, 7431, 11740, 6093, 4078, 6062, 11422, 16048, 7640, 7358, 8194, 5299, 15264, 9157, 7480, 2254, 11623, 5428, 10168, 5874, 10212, 2898, 5796, 6346, 10485, 6120, 6052, 8619, 7245, 13574, 11831, 6898, 6016, 5872, 10861, 8951, 16712, 4703, 10642, 16304, 8859, 8254, 5714, 6850, 4854, 3770, 7881, 8027, 13206, 4866, 10072, 7006, 7664, 8430, 2534, 6760, 13090, 13558, 13139, 9590, 12171, 11504, 10440, 13060, 6828, 12740, 9626, 7407, 11065, 9140, 6733, 5101, 14508, 11770, 6090, 6518, 10471, 10139, 9009, 7712, 3526, 15354, 9306, 10135, 8784, 9045, 11193, 9491, 3553, 8716, 11943, 4926, 7237, 7371, 11586, 14445, 7141, 8207, 6196, 12513, 11100, 10856, 10438, 5772, 11034, 9824, 7697, 10442, 12859, 6702, 6711, 8449, 6388, 10283, 7278, 3193, 6227, 14079, 12856, 13963, 5126, 7114, 11791, 7195, 3762, 12434, 7335, 8847, 8950, 14848, 6629, 9726, 4919, 7556, 5363, 13445, 4699, 8644, 5502, 7047, 10199, 2853, 8417, 7524, 3656, 6286, 3299, 6452, 8763, 3805, 9740, 12829, 13809, 16243, 9969, 6397, 6414, 8949, 7955, 5988, 15221, 7752, 8189, 10506, 10624, 6285, 9556, 6325, 13682, 10132, 3101, 11369, 7839, 15795, 12490, 6595, 7140, 16759, 5093, 8906, 12070, 8469, 14200, 14253, 11004, 3738, 4354, 6926, 13045, 10835, 7428, 7950, 10890, 14965, 10571, 8092, 12882, 8376, 15926, 9775, 5232, 6428, 15871, 4460, 6075, 3339, 11248, 11348, 10855, 11689, 6467, 10711, 13117, 7519, 8501, 14959, 15284, 10080, 13524, 6520, 13039, 11058, 12012, 4489, 4157, 10108, 7690, 8686, 3040, 6725, 10997, 4475, 7265, 8155, 11904, 8404, 9774, 2094, 12145, 16390, 12424, 7500, 10170, 5250, 9638, 7206, 6646, 10960, 11083, 10419, 4582, 14913, 10585, 14161, 4233, 2946, 4034, 11516, 7527, 9071, 11106, 6608, 2329, 8051, 14499, 4275, 6107, 11677, 5656, 14132, 10733, 6951, 8866, 6599, 9334, 13377, 12297, 13034, 7939, 11216, 16905, 3645, 5349, 5169, 9589, 10534, 9930, 14818, 11966, 11605, 5332, 17906, 12469, 3488, 5654, 5840, 4156, 7054, 9584, 6069, 5866, 10644, 9883, 5880, 4115, 13565, 8626, 4619, 15525, 7466, 5214, 4436, 5793, 8025, 11114, 8157, 8277, 7681, 5683, 3625, 7924, 4635, 9127, 15081, 9947, 5773, 4758, 7276, 16202, 10996, 6742, 10983, 5742, 4576, 3424, 13704, 8282, 4860, 6694, 7271, 11437, 16556, 13959, 7536, 6411, 8101, 12164, 7201, 5065, 4622, 11480, 14512, 13511, 7391, 14938, 10559, 8248, 7908, 9524, 12264, 4609, 10701, 15591, 9658, 3538, 10106, 12661, 8320, 11022, 5751, 10309, 10840, 7238, 7031, 9506, 5259, 5361, 9934, 6344, 11284, 11309, 10528, 13122, 3874, 5279, 3916, 2515, 9405, 13051, 11489, 17871, 10140, 10384, 3921, 4676, 2551, 11266, 13715, 2047, 8863, 4314, 10452, 12842, 5727, 7149, 11948, 6266, 11794, 11057, 12177, 5098, 12093, 4450, 5499, 7918, 14065, 9259, 13207, 5852, 15248, 2333, 8897, 5371, 8953, 5680, 7424, 9716, 10331, 13241, 5966, 9439, 9951, 10351, 5720, 7922, 3474, 3910, 6751, 5518, 12330, 8968, 12451, 7205, 7746, 5744, 4679, 9050, 9893, 9467, 5736, 12757, 9700, 11697, 8894, 12917, 10639, 8918, 7074, 9860, 14574, 5282, 11233, 5347, 8156, 8382, 7706, 5878, 7451, 13925, 15194, 5678, 4257, 10226, 6401, 4873, 10396, 11017, 9092, 5761, 12184, 3854, 6818, 12939, 2598, 7893, 14329, 7611, 13571, 10118, 7965, 14160, 8636, 13543, 8540, 6716, 10457, 8486, 9701, 13256, 11391, 5860, 11944, 9479, 11056, 10204, 2374, 10876, 12391, 9006, 8498, 8567, 11419, 8843, 6583, 9827, 13945, 6941, 16163, 12776, 8954, 14837, 13484, 14351, 4639, 2883, 6981, 14471, 8017, 16991, 10387, 12299, 7680, 3377, 5814, 12772, 3995, 13147, 10529, 3820, 2137, 3234, 6541, 6438, 8249, 2132, 15979, 9368, 9318, 12960, 4342, 10314, 3720, 14122, 9010, 5083, 7713, 8475, 5723, 12684, 8053, 13142, 10545, 9525, 4861, 8018, 7042, 3875, 16619, 5731, 11702, 5741, 5781, 5338, 9753, 10696, 15253, 7417, 13880, 10424, 3458, 8817, 7315, 9741, 2410, 8345, 10946, 4407, 8339, 8673, 5666, 10234, 13318, 4288, 10245, 14050, 12629, 11071, 10479, 13463, 7515, 4960, 14326, 10272, 13313, 6670, 13158, 7585, 13320, 7538, 4820, 17072, 5583, 11166, 11704, 3259, 4664, 12499, 11026, 12466, 2524, 7941, 13784, 3940, 12725, 5962, 10554, 7498, 9823, 5687, 7685, 6721, 9219, 10886, 8961, 14123, 9971, 12001, 6250, 11508, 4799, 10157, 11900, 10179, 13026, 7743, 5716, 14335, 5130, 9907, 8472, 9902, 5210, 18017, 5177, 7244, 12062, 7169, 2950, 6189, 13803, 5809, 2603, 8238, 13593, 5738, 8748, 8862, 4594, 13769, 11594, 5861, 15380, 7862, 9025, 7281, 6126, 13600, 5369, 4255, 9113, 11297, 2546, 15720, 2987, 5672, 9193, 12029, 4308, 11635, 4025, 7136, 6070, 8176, 9417, 3926, 15743, 7749, 18301, 5307, 8334, 5418, 9571, 9989, 4944, 9998, 7991, 8247, 15140, 8028, 8151, 6577, 8599, 4692, 8160, 6162, 11880, 9141, 11582, 4667, 9954, 3837, 11146, 15429, 5755, 6519, 9588, 8754, 9429, 12770, 6832, 11718, 4535, 10964, 10188, 9301, 13791, 6814, 12464, 7196, 8163, 7266, 7959, 11021, 10991, 2336, 12773, 9696, 8625, 7182, 14234, 3399, 8974, 8353, 10208, 9175, 9869, 11240, 10972, 10985, 7842, 12937, 11928, 6017, 3260, 11837, 5045, 12287, 8110, 2811, 7800, 10427, 9965, 10831, 8532, 7521, 8438, 14548, 12470, 14626, 9162, 6361, 6127, 13942, 3971, 15745, 13539, 4113, 10467, 8456, 5822, 3758, 9665, 10196, 13829, 4971, 6528, 8026, 8965, 12864, 5477, 3122, 2246, 5928, 11908, 10305, 10399, 14033, 12742, 4177, 5178, 14303, 9414, 7290, 10844, 10615, 6464, 10099, 12220, 12728, 12835, 9366, 2415, 6495, 4556, 12752, 5005, 2324, 14300, 10310, 9086, 16146, 3241, 7076, 4110, 11758, 5311, 10714, 6441, 6559, 7303, 13132, 3147, 6575, 15240, 3760, 9611, 7426, 6713, 8614, 6740, 4369, 4130, 13340, 3208, 9892, 7061, 5510, 6031, 11515, 7530, 13396, 9270, 11397, 6623, 9866, 16316, 8649, 10772, 4219, 11688, 6870, 10236, 15771, 6391, 6616, 11839, 3936, 3628, 11304, 8915, 8922, 3542, 7532, 12741, 2512, 10040, 4237, 10052, 7085, 7285, 11547, 4231, 4028, 8094, 12533, 6356, 9211, 2445, 11336, 10151, 9442, 13812, 9085, 14648, 14946, 9692, 5774, 11268, 6490, 15293, 10894, 10198, 11129, 11651, 11269, 5189, 11455, 11332, 7308, 15058, 5013, 8555, 14751, 10936, 14567, 13249, 13773, 8344, 3764, 4870, 3813, 6193, 10275, 9284, 4881, 12209, 7022, 5639, 13901, 8731, 2916, 11070, 14052, 13699, 9503, 13833, 9546, 10576, 11920, 14939, 14159, 6924, 10939, 8962, 7152, 4162, 13457, 13123, 3577, 9903, 6633, 9708, 6420, 8892, 13061, 9933, 10513, 12073, 6264, 16461, 3979, 10319, 11488, 6251, 7121, 9868, 13969, 8787, 11911, 14711, 5198, 6845, 12647, 8700, 12277, 11985, 3418, 10390, 11876, 2652, 11449, 11676, 11865, 7737, 3795, 14354, 14728, 12388, 11506, 11746, 9173, 7635, 2703, 3012, 15853, 6058, 11165, 13606, 2620, 8075, 13080, 13261, 8445, 11226, 3908, 16854, 13665, 2638, 6745, 14147, 8657, 11403, 6458, 11196, 6423, 15396, 3248, 13636, 10288, 15416, 12087, 7252, 11510, 14431, 2813, 10704, 4014, 5466, 10600, 10355, 5024, 11217, 7780, 2931, 11907, 13467, 6843, 13843, 9770, 12619, 11891, 11599, 4915, 10768, 6593, 5785, 7663, 12455, 10487, 6358, 5312, 13646, 9053, 3969, 2531, 6641, 18255, 9051, 13838, 15090, 13538, 12607, 11812, 3838, 8805, 5524, 9686, 4069, 6343, 3545, 8074, 3052, 6643, 8243, 3127, 10177, 9536, 9981, 9476, 8753, 13443, 13836, 9577, 10051, 10475, 4767, 6292, 4547, 6119, 4625, 10443, 3635, 11314, 9312, 6747, 6701, 10641, 5162, 11823, 12865, 8688, 5149, 5016, 11222, 13536, 13670, 13472, 10339, 9970, 7535, 6380, 9819, 5092, 9091, 11585, 5164, 12576, 5596, 11108, 4563, 8670, 5348, 11110, 11667, 11376, 9764, 5527, 7838, 4817, 4465, 9005, 11984, 5295, 3871, 3468, 15051, 5784, 4819, 12670, 13189, 2873, 12045, 4514, 7776, 8783, 14059, 15055, 5412, 6545, 10028, 8994, 4299, 13614, 14872, 11964, 10156, 4729, 11957, 6692, 8521, 9266, 4581, 7037, 3579, 4351, 6605, 7381, 13082, 4959, 11753, 11835, 3814, 8008, 6261, 11626, 8182, 8454, 6565, 4596, 12542, 10448, 13069, 10165, 14966, 13213, 2718, 10948, 6779, 5442, 2736, 15504, 8613, 9680, 12355, 12364, 2864, 9048, 9136, 3172, 8270, 6056, 6530, 11956, 5145, 7379, 12729, 4075, 5673, 16589, 10544, 6398, 12613, 13994, 12416, 10294, 8201, 6679, 8957, 4058, 6219, 14193, 3233, 10394, 3035, 6860, 15295, 9551, 4792, 8294, 6447, 12366, 13072, 8462, 7937, 6011, 9338, 10613, 8171, 8628, 12185, 9096, 14509, 5015, 13904, 9018, 6394, 4651, 13857, 16722, 10337, 2659, 16844, 10038, 6847, 7769, 9072, 12925, 10404, 3250, 11440, 4736, 6239, 7260, 12090, 12016, 14150, 8887, 10549, 14063, 2740, 6800, 7291, 7094, 8848, 15553, 12471, 13232, 12371, 10846, 3230, 13221, 7056, 9595, 11895, 7018, 13841, 12458, 9541, 8169, 5954, 2977, 10037, 15603, 3882, 11670, 6094, 2530, 6979, 7086, 8588, 16342, 8988, 10418, 11991, 9164, 13296, 9854, 10210, 9070, 11101, 11548, 2052, 5106, 11469, 13230, 10918, 2850, 7132, 14660, 7557, 5134, 3870, 13616, 12468, 8500, 11787, 6454, 7044, 7314, 12038, 9529, 7699, 9832, 6410, 13485, 5061, 9077, 5398, 14457, 15195, 9671, 10020, 7131, 14878, 10912, 5175, 4584, 14629, 16709, 13642, 9016, 4172, 11536, 15318, 13556, 3748, 11927, 16236, 8440, 4502, 9987, 14094, 6878, 8928, 7748, 13924, 15880, 5830, 8769, 6990, 5254, 4142, 10425, 5420, 4119, 13150, 13510, 14700, 7976, 11454, 14219, 4360, 8710, 11879, 5430, 4361, 11236, 11738, 2482, 9910, 11451, 4164, 5257, 7100, 12799, 4063, 7059, 13432, 7952, 12567, 3654, 12845, 8055, 7885, 8773, 10511, 15458, 5564, 13195, 11424, 10228, 2417, 3185, 13102, 11107, 6758, 14876, 4382, 7204, 3655, 2867, 4702, 6047, 8129, 4644, 11885, 6875, 6030, 14316, 3667, 5293, 6279, 12201, 5010, 7947, 8180, 7108, 8258, 3581, 8735, 4405, 12255, 12133, 12817, 10364, 8073, 4402, 3221, 11290, 8233, 6043, 11069, 14950, 6352, 5530, 3781, 9661, 13384, 12883, 4269, 5703, 6022, 2874, 5958, 7600, 9012, 6999, 11859, 5929, 7036, 6880, 10240, 3800, 5377, 14409, 14659, 5679, 6213, 5004, 11006, 13507, 2316, 3746, 8633, 11643, 7964, 7478, 7130, 4334, 6013, 9361, 3374, 9564, 14563, 6763, 9521, 3607, 14546, 6359, 8969, 10348, 9320, 15325, 8272, 11773, 5748, 8543, 13908, 12564, 2193, 13116, 8967, 7343, 12964, 3023, 6255, 13124, 7823, 10221, 12855, 10729, 10806, 15247, 3930, 11438, 11728, 12314, 9119, 13723, 14469, 8296, 15384, 6502, 10486, 7104, 12462, 13492, 6125, 9914, 12778, 6618, 5127, 5964, 8177, 7547, 11652, 3587, 5640, 7583, 8815, 12764, 11078, 14703, 13620, 10214, 7968, 15469, 8426, 12317, 2794, 16134, 6115, 11410, 4441, 10058, 10514, 7181, 7324, 7208, 10779, 10178, 8159, 8699, 12478, 11102, 5417, 4719, 5589, 5031, 12167, 7649, 5326, 8301, 5620, 11460, 11214, 8523, 4585, 13776, 2498, 8913, 6576, 4447, 4746, 8502, 9029, 9996, 8019, 8302, 2969, 10635]\n"
     ]
    }
   ],
   "source": [
    "print(f\"{target_col} -> {df[target_col].unique().tolist()}\")\n"
   ]
  },
  {
   "cell_type": "markdown",
   "metadata": {},
   "source": [
    "Fill missing value\n"
   ]
  },
  {
   "cell_type": "code",
   "execution_count": null,
   "metadata": {},
   "outputs": [
    {
     "data": {
      "text/html": [
       "<div>\n",
       "<style scoped>\n",
       "    .dataframe tbody tr th:only-of-type {\n",
       "        vertical-align: middle;\n",
       "    }\n",
       "\n",
       "    .dataframe tbody tr th {\n",
       "        vertical-align: top;\n",
       "    }\n",
       "\n",
       "    .dataframe thead th {\n",
       "        text-align: right;\n",
       "    }\n",
       "</style>\n",
       "<table border=\"1\" class=\"dataframe\">\n",
       "  <thead>\n",
       "    <tr style=\"text-align: right;\">\n",
       "      <th></th>\n",
       "      <th>Year_num</th>\n",
       "      <th>Engine_Size_num</th>\n",
       "      <th>Mileage_num</th>\n",
       "      <th>Doors_count_num</th>\n",
       "      <th>old_Owner_Count_num</th>\n",
       "      <th>Brand_nom</th>\n",
       "      <th>Model_nom</th>\n",
       "      <th>Fuel_Type_nom</th>\n",
       "      <th>Transmission_type_nom</th>\n",
       "      <th>Price</th>\n",
       "    </tr>\n",
       "  </thead>\n",
       "  <tbody>\n",
       "    <tr>\n",
       "      <th>0</th>\n",
       "      <td>2004.0</td>\n",
       "      <td>4.4</td>\n",
       "      <td>137461.0</td>\n",
       "      <td>4.0</td>\n",
       "      <td>5.0</td>\n",
       "      <td>Toyota</td>\n",
       "      <td>Camry</td>\n",
       "      <td>Diesel</td>\n",
       "      <td>Semi-Automatic</td>\n",
       "      <td>6950</td>\n",
       "    </tr>\n",
       "    <tr>\n",
       "      <th>1</th>\n",
       "      <td>2015.0</td>\n",
       "      <td>4.3</td>\n",
       "      <td>109966.0</td>\n",
       "      <td>2.0</td>\n",
       "      <td>1.0</td>\n",
       "      <td>Honda</td>\n",
       "      <td>CR-V</td>\n",
       "      <td>Electric</td>\n",
       "      <td>Semi-Automatic</td>\n",
       "      <td>12700</td>\n",
       "    </tr>\n",
       "    <tr>\n",
       "      <th>2</th>\n",
       "      <td>2006.0</td>\n",
       "      <td>3.0</td>\n",
       "      <td>9880.0</td>\n",
       "      <td>4.0</td>\n",
       "      <td>5.0</td>\n",
       "      <td>Chevrolet</td>\n",
       "      <td>Impala</td>\n",
       "      <td>Electric</td>\n",
       "      <td>Manual</td>\n",
       "      <td>10702</td>\n",
       "    </tr>\n",
       "    <tr>\n",
       "      <th>3</th>\n",
       "      <td>2023.0</td>\n",
       "      <td>2.4</td>\n",
       "      <td>240972.0</td>\n",
       "      <td>2.0</td>\n",
       "      <td>3.0</td>\n",
       "      <td>Toyota</td>\n",
       "      <td>RAV4</td>\n",
       "      <td>Petrol</td>\n",
       "      <td>Semi-Automatic</td>\n",
       "      <td>8580</td>\n",
       "    </tr>\n",
       "    <tr>\n",
       "      <th>4</th>\n",
       "      <td>2017.0</td>\n",
       "      <td>2.7</td>\n",
       "      <td>167257.0</td>\n",
       "      <td>4.0</td>\n",
       "      <td>2.0</td>\n",
       "      <td>Volkswagen</td>\n",
       "      <td>Passat</td>\n",
       "      <td>Diesel</td>\n",
       "      <td>Automatic</td>\n",
       "      <td>10054</td>\n",
       "    </tr>\n",
       "  </tbody>\n",
       "</table>\n",
       "</div>"
      ],
      "text/plain": [
       "  Year_num Engine_Size_num Mileage_num Doors_count_num old_Owner_Count_num  \\\n",
       "0   2004.0             4.4    137461.0             4.0                 5.0   \n",
       "1   2015.0             4.3    109966.0             2.0                 1.0   \n",
       "2   2006.0             3.0      9880.0             4.0                 5.0   \n",
       "3   2023.0             2.4    240972.0             2.0                 3.0   \n",
       "4   2017.0             2.7    167257.0             4.0                 2.0   \n",
       "\n",
       "    Brand_nom Model_nom Fuel_Type_nom Transmission_type_nom  Price  \n",
       "0      Toyota     Camry        Diesel        Semi-Automatic   6950  \n",
       "1       Honda      CR-V      Electric        Semi-Automatic  12700  \n",
       "2   Chevrolet    Impala      Electric                Manual  10702  \n",
       "3      Toyota      RAV4        Petrol        Semi-Automatic   8580  \n",
       "4  Volkswagen    Passat        Diesel             Automatic  10054  "
      ]
     },
     "execution_count": 22,
     "metadata": {},
     "output_type": "execute_result"
    }
   ],
   "source": [
    "cat_cols = binary_cols + nominal_cols + ordinal_cols + [target_col]\n",
    "\n",
    "preprocessor = ColumnTransformer(\n",
    "    transformers=[\n",
    "        (\"num\", SimpleImputer(strategy=\"mean\"), numeric_cols),\n",
    "        (\"cat\", SimpleImputer(strategy=\"most_frequent\"), cat_cols),\n",
    "    ]\n",
    ")\n",
    "\n",
    "df_filled = preprocessor.fit_transform(df)\n",
    "df_filled = pd.DataFrame(df_filled, columns=numeric_cols + cat_cols)\n",
    "\n",
    "# Luu preprocessor lai\n",
    "folder = \"../artifacts/data_correction\"\n",
    "os.makedirs(folder, exist_ok=True)\n",
    "myfuncs.save_python_object(\n",
    "    file_path=os.path.join(folder, \"missing_value_handler.pkl\"), obj=preprocessor\n",
    ")\n",
    "\n",
    "df_filled.head()\n"
   ]
  },
  {
   "cell_type": "markdown",
   "metadata": {},
   "source": [
    "Chuyen doi ve dung kieu du lieu\n"
   ]
  },
  {
   "cell_type": "markdown",
   "metadata": {},
   "source": [
    "Kiem tra cac gia tri cua cot binary\n"
   ]
  },
  {
   "cell_type": "code",
   "execution_count": null,
   "metadata": {},
   "outputs": [],
   "source": [
    "for col in binary_cols:\n",
    "    print(f\"{col} -> {df[col].unique().tolist()}\")\n"
   ]
  },
  {
   "cell_type": "markdown",
   "metadata": {},
   "source": [
    "Chuyen cac cot binary ve so\n"
   ]
  },
  {
   "cell_type": "code",
   "execution_count": null,
   "metadata": {},
   "outputs": [],
   "source": [
    "df_filled[binary_cols] = df_filled[binary_cols].replace(\n",
    "    {\n",
    "        \"Yes\": 1,\n",
    "        \"No\": 0,\n",
    "    }\n",
    ")\n"
   ]
  },
  {
   "cell_type": "code",
   "execution_count": null,
   "metadata": {},
   "outputs": [
    {
     "name": "stdout",
     "output_type": "stream",
     "text": [
      "<class 'pandas.core.frame.DataFrame'>\n",
      "RangeIndex: 9000 entries, 0 to 8999\n",
      "Data columns (total 10 columns):\n",
      " #   Column                 Non-Null Count  Dtype   \n",
      "---  ------                 --------------  -----   \n",
      " 0   Year_num               9000 non-null   float64 \n",
      " 1   Engine_Size_num        9000 non-null   float64 \n",
      " 2   Mileage_num            9000 non-null   float64 \n",
      " 3   Doors_count_num        9000 non-null   float64 \n",
      " 4   old_Owner_Count_num    9000 non-null   float64 \n",
      " 5   Brand_nom              9000 non-null   category\n",
      " 6   Model_nom              9000 non-null   category\n",
      " 7   Fuel_Type_nom          9000 non-null   category\n",
      " 8   Transmission_type_nom  9000 non-null   category\n",
      " 9   Price                  9000 non-null   float64 \n",
      "dtypes: category(4), float64(6)\n",
      "memory usage: 459.1 KB\n"
     ]
    }
   ],
   "source": [
    "df_filled[numeric_cols + binary_cols] = df_filled[numeric_cols + binary_cols].astype(\n",
    "    \"float\"\n",
    ")\n",
    "\n",
    "\n",
    "df_filled[nominal_cols + ordinal_cols] = df_filled[nominal_cols + ordinal_cols].astype(\n",
    "    \"category\"\n",
    ")\n",
    "\n",
    "df_filled[target_col] = df_filled[target_col].astype(\"float\")\n",
    "\n",
    "df_filled.info()\n"
   ]
  },
  {
   "cell_type": "markdown",
   "metadata": {},
   "source": [
    "Thay doi thu tu cac label cho cac cot ordinal\n"
   ]
  },
  {
   "cell_type": "code",
   "execution_count": null,
   "metadata": {},
   "outputs": [],
   "source": [
    "ord_values_dict = {\n",
    "    \"Physical_Activity_Level_ord\": [\"Low\", \"Medium\", \"High\"],\n",
    "    \"Smoking_Status_level_ord\": [\"Never\", \"Former\", \"Current\"],\n",
    "    \"Alcohol_Consumption_Level_ord\": [\"Never\", \"Occasionally\", \"Regularly\"],\n",
    "    \"Cholesterol_Level_ord\": [\"Normal\", \"High\"],\n",
    "    \"Depression_Level_ord\": [\"Low\", \"Medium\", \"High\"],\n",
    "    \"Sleep_Quality_Level_ord\": [\"Poor\", \"Average\", \"Good\"],\n",
    "    \"Diet_level_ord\": [\"Unhealthy\", \"Average\", \"Healthy\"],\n",
    "    \"Air_Pollution_Exposure_level_ord\": [\"Low\", \"Medium\", \"High\"],\n",
    "    \"Social_Engagement_Level_ord\": [\"Low\", \"Medium\", \"High\"],\n",
    "    \"Income_Level_ord\": [\"Low\", \"Medium\", \"High\"],\n",
    "    \"Stress_Levels_ord\": [\"Low\", \"Medium\", \"High\"],\n",
    "}\n",
    "\n",
    "ordinal_cols_series = pd.Series(df_filled.columns)\n",
    "ordinal_cols_series = ordinal_cols_series[\n",
    "    ordinal_cols_series.str.endswith(\"ord\")\n",
    "].tolist()\n",
    "\n",
    "\n",
    "for col in ordinal_cols_series:\n",
    "    df_filled[col] = df_filled[col].cat.reorder_categories(\n",
    "        ord_values_dict[col], ordered=True\n",
    "    )\n"
   ]
  },
  {
   "cell_type": "markdown",
   "metadata": {},
   "source": [
    "Check duplicates\n"
   ]
  },
  {
   "cell_type": "code",
   "execution_count": null,
   "metadata": {},
   "outputs": [
    {
     "data": {
      "text/plain": [
       "False"
      ]
     },
     "execution_count": 27,
     "metadata": {},
     "output_type": "execute_result"
    }
   ],
   "source": [
    "any(df_filled.duplicated())\n"
   ]
  },
  {
   "cell_type": "markdown",
   "metadata": {},
   "source": [
    "Khong co duplicates\n"
   ]
  },
  {
   "cell_type": "code",
   "execution_count": null,
   "metadata": {},
   "outputs": [
    {
     "data": {
      "text/plain": [
       "(9000, 10)"
      ]
     },
     "execution_count": 28,
     "metadata": {},
     "output_type": "execute_result"
    }
   ],
   "source": [
    "df_filled.shape\n"
   ]
  },
  {
   "cell_type": "markdown",
   "metadata": {},
   "source": [
    "Chia thanh tap train va tap val\n"
   ]
  },
  {
   "cell_type": "code",
   "execution_count": null,
   "metadata": {},
   "outputs": [],
   "source": [
    "df_train, df_val = train_test_split(df_filled, test_size=0.1, random_state=42)\n",
    "\n",
    "myfuncs.save_python_object(os.path.join(folder, \"train_data.pkl\"), df_train)\n",
    "myfuncs.save_python_object(os.path.join(folder, \"val_data.pkl\"), df_val)\n"
   ]
  }
 ],
 "metadata": {
  "kernelspec": {
   "display_name": "Python 3",
   "language": "python",
   "name": "python3"
  },
  "language_info": {
   "codemirror_mode": {
    "name": "ipython",
    "version": 3
   },
   "file_extension": ".py",
   "mimetype": "text/x-python",
   "name": "python",
   "nbconvert_exporter": "python",
   "pygments_lexer": "ipython3",
   "version": "3.10.0"
  }
 },
 "nbformat": 4,
 "nbformat_minor": 2
}
