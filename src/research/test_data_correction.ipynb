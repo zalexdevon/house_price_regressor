{
 "cells": [
  {
   "cell_type": "code",
   "execution_count": null,
   "metadata": {},
   "outputs": [
    {
     "data": {
      "text/plain": [
       "'d:\\\\DA_workspace\\\\car_price_prediction\\\\src'"
      ]
     },
     "execution_count": 1,
     "metadata": {},
     "output_type": "execute_result"
    }
   ],
   "source": [
    "import os\n",
    "\n",
    "\n",
    "os.chdir(\"../\")\n",
    "\n",
    "\n",
    "os.getcwd()\n"
   ]
  },
  {
   "cell_type": "code",
   "execution_count": null,
   "metadata": {},
   "outputs": [],
   "source": [
    "import pandas as pd\n",
    "import numpy as np\n",
    "from regressor.Mylib import myfuncs\n",
    "from sklearn.compose import ColumnTransformer\n",
    "from sklearn.impute import SimpleImputer\n",
    "from sklearn.base import BaseEstimator, TransformerMixin\n",
    "from sklearn.model_selection import train_test_split\n"
   ]
  },
  {
   "cell_type": "markdown",
   "metadata": {},
   "source": [
    "Doc du lieu\n"
   ]
  },
  {
   "cell_type": "code",
   "execution_count": null,
   "metadata": {},
   "outputs": [
    {
     "data": {
      "application/vnd.microsoft.datawrangler.viewer.v0+json": {
       "columns": [
        {
         "name": "index",
         "rawType": "int64",
         "type": "integer"
        },
        {
         "name": "Brand",
         "rawType": "object",
         "type": "string"
        },
        {
         "name": "Model",
         "rawType": "object",
         "type": "string"
        },
        {
         "name": "Year",
         "rawType": "int64",
         "type": "integer"
        },
        {
         "name": "Engine_Size",
         "rawType": "float64",
         "type": "float"
        },
        {
         "name": "Fuel_Type",
         "rawType": "object",
         "type": "string"
        },
        {
         "name": "Transmission",
         "rawType": "object",
         "type": "string"
        },
        {
         "name": "Mileage",
         "rawType": "int64",
         "type": "integer"
        },
        {
         "name": "Doors",
         "rawType": "int64",
         "type": "integer"
        },
        {
         "name": "Owner_Count",
         "rawType": "int64",
         "type": "integer"
        },
        {
         "name": "Price",
         "rawType": "int64",
         "type": "integer"
        }
       ],
       "conversionMethod": "pd.DataFrame",
       "ref": "403088fe-a6ea-4142-87fb-edffeb1617ef",
       "rows": [
        [
         "0",
         "BMW",
         "3 Series",
         "2005",
         "1.2",
         "Diesel",
         "Manual",
         "257760",
         "5",
         "5",
         "2000"
        ],
        [
         "1",
         "Volkswagen",
         "Golf",
         "2013",
         "2.9",
         "Hybrid",
         "Automatic",
         "111790",
         "5",
         "3",
         "11164"
        ],
        [
         "2",
         "Toyota",
         "RAV4",
         "2011",
         "5.0",
         "Hybrid",
         "Automatic",
         "13473",
         "5",
         "4",
         "14630"
        ],
        [
         "3",
         "Mercedes",
         "E-Class",
         "2007",
         "3.8",
         "Diesel",
         "Manual",
         "133298",
         "4",
         "5",
         "7334"
        ],
        [
         "4",
         "Honda",
         "Civic",
         "2012",
         "1.3",
         "Petrol",
         "Automatic",
         "18611",
         "3",
         "5",
         "10127"
        ]
       ],
       "shape": {
        "columns": 10,
        "rows": 5
       }
      },
      "text/html": [
       "<div>\n",
       "<style scoped>\n",
       "    .dataframe tbody tr th:only-of-type {\n",
       "        vertical-align: middle;\n",
       "    }\n",
       "\n",
       "    .dataframe tbody tr th {\n",
       "        vertical-align: top;\n",
       "    }\n",
       "\n",
       "    .dataframe thead th {\n",
       "        text-align: right;\n",
       "    }\n",
       "</style>\n",
       "<table border=\"1\" class=\"dataframe\">\n",
       "  <thead>\n",
       "    <tr style=\"text-align: right;\">\n",
       "      <th></th>\n",
       "      <th>Brand</th>\n",
       "      <th>Model</th>\n",
       "      <th>Year</th>\n",
       "      <th>Engine_Size</th>\n",
       "      <th>Fuel_Type</th>\n",
       "      <th>Transmission</th>\n",
       "      <th>Mileage</th>\n",
       "      <th>Doors</th>\n",
       "      <th>Owner_Count</th>\n",
       "      <th>Price</th>\n",
       "    </tr>\n",
       "  </thead>\n",
       "  <tbody>\n",
       "    <tr>\n",
       "      <th>0</th>\n",
       "      <td>BMW</td>\n",
       "      <td>3 Series</td>\n",
       "      <td>2005</td>\n",
       "      <td>1.2</td>\n",
       "      <td>Diesel</td>\n",
       "      <td>Manual</td>\n",
       "      <td>257760</td>\n",
       "      <td>5</td>\n",
       "      <td>5</td>\n",
       "      <td>2000</td>\n",
       "    </tr>\n",
       "    <tr>\n",
       "      <th>1</th>\n",
       "      <td>Volkswagen</td>\n",
       "      <td>Golf</td>\n",
       "      <td>2013</td>\n",
       "      <td>2.9</td>\n",
       "      <td>Hybrid</td>\n",
       "      <td>Automatic</td>\n",
       "      <td>111790</td>\n",
       "      <td>5</td>\n",
       "      <td>3</td>\n",
       "      <td>11164</td>\n",
       "    </tr>\n",
       "    <tr>\n",
       "      <th>2</th>\n",
       "      <td>Toyota</td>\n",
       "      <td>RAV4</td>\n",
       "      <td>2011</td>\n",
       "      <td>5.0</td>\n",
       "      <td>Hybrid</td>\n",
       "      <td>Automatic</td>\n",
       "      <td>13473</td>\n",
       "      <td>5</td>\n",
       "      <td>4</td>\n",
       "      <td>14630</td>\n",
       "    </tr>\n",
       "    <tr>\n",
       "      <th>3</th>\n",
       "      <td>Mercedes</td>\n",
       "      <td>E-Class</td>\n",
       "      <td>2007</td>\n",
       "      <td>3.8</td>\n",
       "      <td>Diesel</td>\n",
       "      <td>Manual</td>\n",
       "      <td>133298</td>\n",
       "      <td>4</td>\n",
       "      <td>5</td>\n",
       "      <td>7334</td>\n",
       "    </tr>\n",
       "    <tr>\n",
       "      <th>4</th>\n",
       "      <td>Honda</td>\n",
       "      <td>Civic</td>\n",
       "      <td>2012</td>\n",
       "      <td>1.3</td>\n",
       "      <td>Petrol</td>\n",
       "      <td>Automatic</td>\n",
       "      <td>18611</td>\n",
       "      <td>3</td>\n",
       "      <td>5</td>\n",
       "      <td>10127</td>\n",
       "    </tr>\n",
       "  </tbody>\n",
       "</table>\n",
       "</div>"
      ],
      "text/plain": [
       "        Brand     Model  Year  Engine_Size Fuel_Type Transmission  Mileage  \\\n",
       "0         BMW  3 Series  2005          1.2    Diesel       Manual   257760   \n",
       "1  Volkswagen      Golf  2013          2.9    Hybrid    Automatic   111790   \n",
       "2      Toyota      RAV4  2011          5.0    Hybrid    Automatic    13473   \n",
       "3    Mercedes   E-Class  2007          3.8    Diesel       Manual   133298   \n",
       "4       Honda     Civic  2012          1.3    Petrol    Automatic    18611   \n",
       "\n",
       "   Doors  Owner_Count  Price  \n",
       "0      5            5   2000  \n",
       "1      5            3  11164  \n",
       "2      5            4  14630  \n",
       "3      4            5   7334  \n",
       "4      3            5  10127  "
      ]
     },
     "execution_count": 3,
     "metadata": {},
     "output_type": "execute_result"
    }
   ],
   "source": [
    "df = myfuncs.load_python_object(\"../artifacts/data_ingestion/test_data.pkl\")\n",
    "\n",
    "df.head()\n"
   ]
  },
  {
   "cell_type": "markdown",
   "metadata": {},
   "source": [
    "Kich thuoc\n"
   ]
  },
  {
   "cell_type": "code",
   "execution_count": null,
   "metadata": {},
   "outputs": [
    {
     "data": {
      "text/plain": [
       "(1000, 10)"
      ]
     },
     "execution_count": 4,
     "metadata": {},
     "output_type": "execute_result"
    }
   ],
   "source": [
    "df.shape\n"
   ]
  },
  {
   "cell_type": "markdown",
   "metadata": {},
   "source": [
    "Ti le missing cac cot\n"
   ]
  },
  {
   "cell_type": "code",
   "execution_count": null,
   "metadata": {},
   "outputs": [
    {
     "data": {
      "text/plain": [
       "Brand           0.0\n",
       "Model           0.0\n",
       "Year            0.0\n",
       "Engine_Size     0.0\n",
       "Fuel_Type       0.0\n",
       "Transmission    0.0\n",
       "Mileage         0.0\n",
       "Doors           0.0\n",
       "Owner_Count     0.0\n",
       "Price           0.0\n",
       "dtype: float64"
      ]
     },
     "execution_count": 5,
     "metadata": {},
     "output_type": "execute_result"
    }
   ],
   "source": [
    "df.isnull().mean() * 100\n"
   ]
  },
  {
   "cell_type": "markdown",
   "metadata": {},
   "source": [
    "Khong xoa cot nao het !\n"
   ]
  },
  {
   "cell_type": "markdown",
   "metadata": {},
   "source": [
    "Kich thuoc con lai\n"
   ]
  },
  {
   "cell_type": "code",
   "execution_count": null,
   "metadata": {},
   "outputs": [
    {
     "data": {
      "text/plain": [
       "(1000, 10)"
      ]
     },
     "execution_count": 6,
     "metadata": {},
     "output_type": "execute_result"
    }
   ],
   "source": [
    "df.shape\n"
   ]
  },
  {
   "cell_type": "markdown",
   "metadata": {},
   "source": [
    "Y nghia cac cot\n",
    "\n",
    "| Cot          | Y nghia                 | Don vi | Phan loai |\n",
    "| ------------ | ----------------------- | ------ | --------- |\n",
    "| Brand        | Nhan hieu               | none   | Nominal   |\n",
    "| Model        | Mo hinh xe              | none   | Nominal   |\n",
    "| Year         | Nam san xuat xe         | none   | Numeric   |\n",
    "| Engine_Size  | kich thuoc dong co      | lit    | Numeric   |\n",
    "| Fuel_Type    | Loai nhien lieu su dung | none   | Nominal   |\n",
    "| Transmission | Loai hop so             | none   | Nominal   |\n",
    "| Mileage      | Quang duong xe da di    | km     | Numeric   |\n",
    "| Doors        | So cua xe               | none   | Numeric   |\n",
    "| Owner_Count  | So nguoi chu cu cua xe  | none   | Numeric   |\n",
    "| Price        | Gia ban                 | none   | Numeric   |\n"
   ]
  },
  {
   "cell_type": "markdown",
   "metadata": {},
   "source": [
    "Doi ten cot\n"
   ]
  },
  {
   "cell_type": "code",
   "execution_count": null,
   "metadata": {},
   "outputs": [
    {
     "data": {
      "text/plain": [
       "Index(['Brand', 'Model', 'Year', 'Engine_Size', 'Fuel_Type', 'Transmission',\n",
       "       'Mileage', 'Doors', 'Owner_Count', 'Price'],\n",
       "      dtype='object')"
      ]
     },
     "execution_count": 7,
     "metadata": {},
     "output_type": "execute_result"
    }
   ],
   "source": [
    "df.columns\n"
   ]
  },
  {
   "cell_type": "code",
   "execution_count": null,
   "metadata": {},
   "outputs": [
    {
     "data": {
      "application/vnd.microsoft.datawrangler.viewer.v0+json": {
       "columns": [
        {
         "name": "index",
         "rawType": "int64",
         "type": "integer"
        },
        {
         "name": "Brand_nom",
         "rawType": "object",
         "type": "string"
        },
        {
         "name": "Model_nom",
         "rawType": "object",
         "type": "string"
        },
        {
         "name": "Year_num",
         "rawType": "int64",
         "type": "integer"
        },
        {
         "name": "Engine_Size_num",
         "rawType": "float64",
         "type": "float"
        },
        {
         "name": "Fuel_Type_nom",
         "rawType": "object",
         "type": "string"
        },
        {
         "name": "Transmission_type_nom",
         "rawType": "object",
         "type": "string"
        },
        {
         "name": "Mileage_num",
         "rawType": "int64",
         "type": "integer"
        },
        {
         "name": "Doors_count_num",
         "rawType": "int64",
         "type": "integer"
        },
        {
         "name": "old_Owner_Count_num",
         "rawType": "int64",
         "type": "integer"
        },
        {
         "name": "Price",
         "rawType": "int64",
         "type": "integer"
        }
       ],
       "conversionMethod": "pd.DataFrame",
       "ref": "cc9f499c-019a-41f7-82ba-6d20310930f5",
       "rows": [
        [
         "0",
         "BMW",
         "3 Series",
         "2005",
         "1.2",
         "Diesel",
         "Manual",
         "257760",
         "5",
         "5",
         "2000"
        ],
        [
         "1",
         "Volkswagen",
         "Golf",
         "2013",
         "2.9",
         "Hybrid",
         "Automatic",
         "111790",
         "5",
         "3",
         "11164"
        ],
        [
         "2",
         "Toyota",
         "RAV4",
         "2011",
         "5.0",
         "Hybrid",
         "Automatic",
         "13473",
         "5",
         "4",
         "14630"
        ],
        [
         "3",
         "Mercedes",
         "E-Class",
         "2007",
         "3.8",
         "Diesel",
         "Manual",
         "133298",
         "4",
         "5",
         "7334"
        ],
        [
         "4",
         "Honda",
         "Civic",
         "2012",
         "1.3",
         "Petrol",
         "Automatic",
         "18611",
         "3",
         "5",
         "10127"
        ]
       ],
       "shape": {
        "columns": 10,
        "rows": 5
       }
      },
      "text/html": [
       "<div>\n",
       "<style scoped>\n",
       "    .dataframe tbody tr th:only-of-type {\n",
       "        vertical-align: middle;\n",
       "    }\n",
       "\n",
       "    .dataframe tbody tr th {\n",
       "        vertical-align: top;\n",
       "    }\n",
       "\n",
       "    .dataframe thead th {\n",
       "        text-align: right;\n",
       "    }\n",
       "</style>\n",
       "<table border=\"1\" class=\"dataframe\">\n",
       "  <thead>\n",
       "    <tr style=\"text-align: right;\">\n",
       "      <th></th>\n",
       "      <th>Brand_nom</th>\n",
       "      <th>Model_nom</th>\n",
       "      <th>Year_num</th>\n",
       "      <th>Engine_Size_num</th>\n",
       "      <th>Fuel_Type_nom</th>\n",
       "      <th>Transmission_type_nom</th>\n",
       "      <th>Mileage_num</th>\n",
       "      <th>Doors_count_num</th>\n",
       "      <th>old_Owner_Count_num</th>\n",
       "      <th>Price</th>\n",
       "    </tr>\n",
       "  </thead>\n",
       "  <tbody>\n",
       "    <tr>\n",
       "      <th>0</th>\n",
       "      <td>BMW</td>\n",
       "      <td>3 Series</td>\n",
       "      <td>2005</td>\n",
       "      <td>1.2</td>\n",
       "      <td>Diesel</td>\n",
       "      <td>Manual</td>\n",
       "      <td>257760</td>\n",
       "      <td>5</td>\n",
       "      <td>5</td>\n",
       "      <td>2000</td>\n",
       "    </tr>\n",
       "    <tr>\n",
       "      <th>1</th>\n",
       "      <td>Volkswagen</td>\n",
       "      <td>Golf</td>\n",
       "      <td>2013</td>\n",
       "      <td>2.9</td>\n",
       "      <td>Hybrid</td>\n",
       "      <td>Automatic</td>\n",
       "      <td>111790</td>\n",
       "      <td>5</td>\n",
       "      <td>3</td>\n",
       "      <td>11164</td>\n",
       "    </tr>\n",
       "    <tr>\n",
       "      <th>2</th>\n",
       "      <td>Toyota</td>\n",
       "      <td>RAV4</td>\n",
       "      <td>2011</td>\n",
       "      <td>5.0</td>\n",
       "      <td>Hybrid</td>\n",
       "      <td>Automatic</td>\n",
       "      <td>13473</td>\n",
       "      <td>5</td>\n",
       "      <td>4</td>\n",
       "      <td>14630</td>\n",
       "    </tr>\n",
       "    <tr>\n",
       "      <th>3</th>\n",
       "      <td>Mercedes</td>\n",
       "      <td>E-Class</td>\n",
       "      <td>2007</td>\n",
       "      <td>3.8</td>\n",
       "      <td>Diesel</td>\n",
       "      <td>Manual</td>\n",
       "      <td>133298</td>\n",
       "      <td>4</td>\n",
       "      <td>5</td>\n",
       "      <td>7334</td>\n",
       "    </tr>\n",
       "    <tr>\n",
       "      <th>4</th>\n",
       "      <td>Honda</td>\n",
       "      <td>Civic</td>\n",
       "      <td>2012</td>\n",
       "      <td>1.3</td>\n",
       "      <td>Petrol</td>\n",
       "      <td>Automatic</td>\n",
       "      <td>18611</td>\n",
       "      <td>3</td>\n",
       "      <td>5</td>\n",
       "      <td>10127</td>\n",
       "    </tr>\n",
       "  </tbody>\n",
       "</table>\n",
       "</div>"
      ],
      "text/plain": [
       "    Brand_nom Model_nom  Year_num  Engine_Size_num Fuel_Type_nom  \\\n",
       "0         BMW  3 Series      2005              1.2        Diesel   \n",
       "1  Volkswagen      Golf      2013              2.9        Hybrid   \n",
       "2      Toyota      RAV4      2011              5.0        Hybrid   \n",
       "3    Mercedes   E-Class      2007              3.8        Diesel   \n",
       "4       Honda     Civic      2012              1.3        Petrol   \n",
       "\n",
       "  Transmission_type_nom  Mileage_num  Doors_count_num  old_Owner_Count_num  \\\n",
       "0                Manual       257760                5                    5   \n",
       "1             Automatic       111790                5                    3   \n",
       "2             Automatic        13473                5                    4   \n",
       "3                Manual       133298                4                    5   \n",
       "4             Automatic        18611                3                    5   \n",
       "\n",
       "   Price  \n",
       "0   2000  \n",
       "1  11164  \n",
       "2  14630  \n",
       "3   7334  \n",
       "4  10127  "
      ]
     },
     "execution_count": 8,
     "metadata": {},
     "output_type": "execute_result"
    }
   ],
   "source": [
    "rename_dict = {\n",
    "    \"Brand\": \"Brand_nom\",\n",
    "    \"Model\": \"Model_nom\",\n",
    "    \"Year\": \"Year_num\",\n",
    "    \"Engine_Size\": \"Engine_Size_num\",\n",
    "    \"Fuel_Type\": \"Fuel_Type_nom\",\n",
    "    \"Transmission\": \"Transmission_type_nom\",\n",
    "    \"Mileage\": \"Mileage_num\",\n",
    "    \"Doors\": \"Doors_count_num\",\n",
    "    \"Owner_Count\": \"old_Owner_Count_num\",\n",
    "}\n",
    "\n",
    "\n",
    "df = df.rename(columns=rename_dict)\n",
    "\n",
    "df.head()\n"
   ]
  },
  {
   "cell_type": "code",
   "execution_count": null,
   "metadata": {},
   "outputs": [
    {
     "data": {
      "text/plain": [
       "Index(['Brand_nom', 'Model_nom', 'Year_num', 'Engine_Size_num',\n",
       "       'Fuel_Type_nom', 'Transmission_type_nom', 'Mileage_num',\n",
       "       'Doors_count_num', 'old_Owner_Count_num', 'Price'],\n",
       "      dtype='object')"
      ]
     },
     "execution_count": 9,
     "metadata": {},
     "output_type": "execute_result"
    }
   ],
   "source": [
    "df.columns\n"
   ]
  },
  {
   "cell_type": "markdown",
   "metadata": {},
   "source": [
    "Y nghia cac cot\n",
    "\n",
    "| Cot                   | Y nghia                 | Don vi | Phan loai |\n",
    "| --------------------- | ----------------------- | ------ | --------- |\n",
    "| Brand_nom             | Nhan hieu               | none   | Nominal   |\n",
    "| Model_nom             | Mo hinh xe              | none   | Nominal   |\n",
    "| Year_num              | Nam san xuat xe         | none   | Numeric   |\n",
    "| Engine_Size_num       | kich thuoc dong co      | lit    | Numeric   |\n",
    "| Fuel_Type_nom         | Loai nhien lieu su dung | none   | Nominal   |\n",
    "| Transmission_type_nom | Loai hop so             | none   | Nominal   |\n",
    "| Mileage_num           | Quang duong xe da di    | km     | Numeric   |\n",
    "| Doors_count_num       | So cua xe               | none   | Numeric   |\n",
    "| old_Owner_Count_num   | So nguoi chu cu cua xe  | none   | Numeric   |\n",
    "| Price                 | Gia ban                 | none   | Numeric   |\n"
   ]
  },
  {
   "cell_type": "markdown",
   "metadata": {},
   "source": [
    "Chuyen cac cot numeric, binary, nominal, ordinal, target ve dung vi tri\n"
   ]
  },
  {
   "cell_type": "code",
   "execution_count": null,
   "metadata": {},
   "outputs": [
    {
     "data": {
      "text/plain": [
       "Index(['Brand_nom', 'Model_nom', 'Year_num', 'Engine_Size_num',\n",
       "       'Fuel_Type_nom', 'Transmission_type_nom', 'Mileage_num',\n",
       "       'Doors_count_num', 'old_Owner_Count_num', 'Price'],\n",
       "      dtype='object')"
      ]
     },
     "execution_count": 10,
     "metadata": {},
     "output_type": "execute_result"
    }
   ],
   "source": [
    "df.columns\n"
   ]
  },
  {
   "cell_type": "code",
   "execution_count": null,
   "metadata": {},
   "outputs": [
    {
     "data": {
      "application/vnd.microsoft.datawrangler.viewer.v0+json": {
       "columns": [
        {
         "name": "index",
         "rawType": "int64",
         "type": "integer"
        },
        {
         "name": "Year_num",
         "rawType": "int64",
         "type": "integer"
        },
        {
         "name": "Engine_Size_num",
         "rawType": "float64",
         "type": "float"
        },
        {
         "name": "Mileage_num",
         "rawType": "int64",
         "type": "integer"
        },
        {
         "name": "Doors_count_num",
         "rawType": "int64",
         "type": "integer"
        },
        {
         "name": "old_Owner_Count_num",
         "rawType": "int64",
         "type": "integer"
        },
        {
         "name": "Brand_nom",
         "rawType": "object",
         "type": "string"
        },
        {
         "name": "Model_nom",
         "rawType": "object",
         "type": "string"
        },
        {
         "name": "Fuel_Type_nom",
         "rawType": "object",
         "type": "string"
        },
        {
         "name": "Transmission_type_nom",
         "rawType": "object",
         "type": "string"
        },
        {
         "name": "Price",
         "rawType": "int64",
         "type": "integer"
        }
       ],
       "conversionMethod": "pd.DataFrame",
       "ref": "58d273de-774b-47e6-a432-17a8a99ef3d9",
       "rows": [
        [
         "0",
         "2005",
         "1.2",
         "257760",
         "5",
         "5",
         "BMW",
         "3 Series",
         "Diesel",
         "Manual",
         "2000"
        ],
        [
         "1",
         "2013",
         "2.9",
         "111790",
         "5",
         "3",
         "Volkswagen",
         "Golf",
         "Hybrid",
         "Automatic",
         "11164"
        ],
        [
         "2",
         "2011",
         "5.0",
         "13473",
         "5",
         "4",
         "Toyota",
         "RAV4",
         "Hybrid",
         "Automatic",
         "14630"
        ],
        [
         "3",
         "2007",
         "3.8",
         "133298",
         "4",
         "5",
         "Mercedes",
         "E-Class",
         "Diesel",
         "Manual",
         "7334"
        ],
        [
         "4",
         "2012",
         "1.3",
         "18611",
         "3",
         "5",
         "Honda",
         "Civic",
         "Petrol",
         "Automatic",
         "10127"
        ]
       ],
       "shape": {
        "columns": 10,
        "rows": 5
       }
      },
      "text/html": [
       "<div>\n",
       "<style scoped>\n",
       "    .dataframe tbody tr th:only-of-type {\n",
       "        vertical-align: middle;\n",
       "    }\n",
       "\n",
       "    .dataframe tbody tr th {\n",
       "        vertical-align: top;\n",
       "    }\n",
       "\n",
       "    .dataframe thead th {\n",
       "        text-align: right;\n",
       "    }\n",
       "</style>\n",
       "<table border=\"1\" class=\"dataframe\">\n",
       "  <thead>\n",
       "    <tr style=\"text-align: right;\">\n",
       "      <th></th>\n",
       "      <th>Year_num</th>\n",
       "      <th>Engine_Size_num</th>\n",
       "      <th>Mileage_num</th>\n",
       "      <th>Doors_count_num</th>\n",
       "      <th>old_Owner_Count_num</th>\n",
       "      <th>Brand_nom</th>\n",
       "      <th>Model_nom</th>\n",
       "      <th>Fuel_Type_nom</th>\n",
       "      <th>Transmission_type_nom</th>\n",
       "      <th>Price</th>\n",
       "    </tr>\n",
       "  </thead>\n",
       "  <tbody>\n",
       "    <tr>\n",
       "      <th>0</th>\n",
       "      <td>2005</td>\n",
       "      <td>1.2</td>\n",
       "      <td>257760</td>\n",
       "      <td>5</td>\n",
       "      <td>5</td>\n",
       "      <td>BMW</td>\n",
       "      <td>3 Series</td>\n",
       "      <td>Diesel</td>\n",
       "      <td>Manual</td>\n",
       "      <td>2000</td>\n",
       "    </tr>\n",
       "    <tr>\n",
       "      <th>1</th>\n",
       "      <td>2013</td>\n",
       "      <td>2.9</td>\n",
       "      <td>111790</td>\n",
       "      <td>5</td>\n",
       "      <td>3</td>\n",
       "      <td>Volkswagen</td>\n",
       "      <td>Golf</td>\n",
       "      <td>Hybrid</td>\n",
       "      <td>Automatic</td>\n",
       "      <td>11164</td>\n",
       "    </tr>\n",
       "    <tr>\n",
       "      <th>2</th>\n",
       "      <td>2011</td>\n",
       "      <td>5.0</td>\n",
       "      <td>13473</td>\n",
       "      <td>5</td>\n",
       "      <td>4</td>\n",
       "      <td>Toyota</td>\n",
       "      <td>RAV4</td>\n",
       "      <td>Hybrid</td>\n",
       "      <td>Automatic</td>\n",
       "      <td>14630</td>\n",
       "    </tr>\n",
       "    <tr>\n",
       "      <th>3</th>\n",
       "      <td>2007</td>\n",
       "      <td>3.8</td>\n",
       "      <td>133298</td>\n",
       "      <td>4</td>\n",
       "      <td>5</td>\n",
       "      <td>Mercedes</td>\n",
       "      <td>E-Class</td>\n",
       "      <td>Diesel</td>\n",
       "      <td>Manual</td>\n",
       "      <td>7334</td>\n",
       "    </tr>\n",
       "    <tr>\n",
       "      <th>4</th>\n",
       "      <td>2012</td>\n",
       "      <td>1.3</td>\n",
       "      <td>18611</td>\n",
       "      <td>3</td>\n",
       "      <td>5</td>\n",
       "      <td>Honda</td>\n",
       "      <td>Civic</td>\n",
       "      <td>Petrol</td>\n",
       "      <td>Automatic</td>\n",
       "      <td>10127</td>\n",
       "    </tr>\n",
       "  </tbody>\n",
       "</table>\n",
       "</div>"
      ],
      "text/plain": [
       "   Year_num  Engine_Size_num  Mileage_num  Doors_count_num  \\\n",
       "0      2005              1.2       257760                5   \n",
       "1      2013              2.9       111790                5   \n",
       "2      2011              5.0        13473                5   \n",
       "3      2007              3.8       133298                4   \n",
       "4      2012              1.3        18611                3   \n",
       "\n",
       "   old_Owner_Count_num   Brand_nom Model_nom Fuel_Type_nom  \\\n",
       "0                    5         BMW  3 Series        Diesel   \n",
       "1                    3  Volkswagen      Golf        Hybrid   \n",
       "2                    4      Toyota      RAV4        Hybrid   \n",
       "3                    5    Mercedes   E-Class        Diesel   \n",
       "4                    5       Honda     Civic        Petrol   \n",
       "\n",
       "  Transmission_type_nom  Price  \n",
       "0                Manual   2000  \n",
       "1             Automatic  11164  \n",
       "2             Automatic  14630  \n",
       "3                Manual   7334  \n",
       "4             Automatic  10127  "
      ]
     },
     "execution_count": 11,
     "metadata": {},
     "output_type": "execute_result"
    }
   ],
   "source": [
    "cols = pd.Series(df.columns)\n",
    "numeric_cols = cols[cols.str.endswith(\"num\") | cols.str.endswith(\"bin\")].tolist()\n",
    "binary_cols = cols[cols.str.endswith(\"bin\")].tolist()\n",
    "nominal_cols = cols[cols.str.endswith(\"nom\")].tolist()\n",
    "ordinal_cols = cols[cols.str.endswith(\"ord\")].tolist()\n",
    "\n",
    "\n",
    "target_col = \"Price\"\n",
    "\n",
    "\n",
    "df = df[numeric_cols + binary_cols + nominal_cols + ordinal_cols + [target_col]]\n",
    "\n",
    "\n",
    "df.head()\n"
   ]
  },
  {
   "cell_type": "markdown",
   "metadata": {},
   "source": [
    "Kiem tra kieu du lieu cac cot\n"
   ]
  },
  {
   "cell_type": "code",
   "execution_count": null,
   "metadata": {},
   "outputs": [
    {
     "name": "stdout",
     "output_type": "stream",
     "text": [
      "<class 'pandas.core.frame.DataFrame'>\n",
      "RangeIndex: 1000 entries, 0 to 999\n",
      "Data columns (total 10 columns):\n",
      " #   Column                 Non-Null Count  Dtype  \n",
      "---  ------                 --------------  -----  \n",
      " 0   Year_num               1000 non-null   int64  \n",
      " 1   Engine_Size_num        1000 non-null   float64\n",
      " 2   Mileage_num            1000 non-null   int64  \n",
      " 3   Doors_count_num        1000 non-null   int64  \n",
      " 4   old_Owner_Count_num    1000 non-null   int64  \n",
      " 5   Brand_nom              1000 non-null   object \n",
      " 6   Model_nom              1000 non-null   object \n",
      " 7   Fuel_Type_nom          1000 non-null   object \n",
      " 8   Transmission_type_nom  1000 non-null   object \n",
      " 9   Price                  1000 non-null   int64  \n",
      "dtypes: float64(1), int64(5), object(4)\n",
      "memory usage: 78.2+ KB\n"
     ]
    }
   ],
   "source": [
    "df.info()\n"
   ]
  },
  {
   "cell_type": "markdown",
   "metadata": {},
   "source": [
    "DUNG\n",
    "\n",
    "- Year_num\n",
    "- Engine_Size_num\n",
    "- Mileage_num\n",
    "- Doors_count_num\n",
    "- old_Owner_Count_num\n",
    "- Price\n",
    "\n",
    "---\n",
    "\n",
    "SAI\n",
    "\n",
    "- Brand_nom\n",
    "- Model_nom\n",
    "- Fuel_Type_nom\n",
    "- Transmission_type_nom\n"
   ]
  },
  {
   "cell_type": "markdown",
   "metadata": {},
   "source": [
    "Kiem tra cac cot co kdl = kdlmm + NA\n"
   ]
  },
  {
   "cell_type": "code",
   "execution_count": null,
   "metadata": {},
   "outputs": [
    {
     "data": {
      "text/plain": [
       "{str}"
      ]
     },
     "execution_count": 13,
     "metadata": {},
     "output_type": "execute_result"
    }
   ],
   "source": [
    "set(map(type, df[\"Brand_nom\"]))\n"
   ]
  },
  {
   "cell_type": "code",
   "execution_count": null,
   "metadata": {},
   "outputs": [
    {
     "data": {
      "text/plain": [
       "{str}"
      ]
     },
     "execution_count": 14,
     "metadata": {},
     "output_type": "execute_result"
    }
   ],
   "source": [
    "set(map(type, df[\"Model_nom\"]))\n"
   ]
  },
  {
   "cell_type": "code",
   "execution_count": null,
   "metadata": {},
   "outputs": [
    {
     "data": {
      "text/plain": [
       "{str}"
      ]
     },
     "execution_count": 15,
     "metadata": {},
     "output_type": "execute_result"
    }
   ],
   "source": [
    "set(map(type, df[\"Fuel_Type_nom\"]))\n"
   ]
  },
  {
   "cell_type": "code",
   "execution_count": null,
   "metadata": {},
   "outputs": [
    {
     "data": {
      "text/plain": [
       "{str}"
      ]
     },
     "execution_count": 16,
     "metadata": {},
     "output_type": "execute_result"
    }
   ],
   "source": [
    "set(map(type, df[\"Transmission_type_nom\"]))\n"
   ]
  },
  {
   "cell_type": "markdown",
   "metadata": {},
   "source": [
    "Kiem tra noi dung cac cot\n",
    "\n",
    "Cot numeric\n"
   ]
  },
  {
   "cell_type": "code",
   "execution_count": null,
   "metadata": {},
   "outputs": [
    {
     "data": {
      "application/vnd.microsoft.datawrangler.viewer.v0+json": {
       "columns": [
        {
         "name": "index",
         "rawType": "object",
         "type": "string"
        },
        {
         "name": "Year_num",
         "rawType": "float64",
         "type": "float"
        },
        {
         "name": "Engine_Size_num",
         "rawType": "float64",
         "type": "float"
        },
        {
         "name": "Mileage_num",
         "rawType": "float64",
         "type": "float"
        },
        {
         "name": "Doors_count_num",
         "rawType": "float64",
         "type": "float"
        },
        {
         "name": "old_Owner_Count_num",
         "rawType": "float64",
         "type": "float"
        }
       ],
       "conversionMethod": "pd.DataFrame",
       "ref": "c6c42cb7-e802-4e48-9faf-320573a98a91",
       "rows": [
        [
         "min",
         "2000.0",
         "1.0",
         "88.0",
         "2.0",
         "1.0"
        ],
        [
         "max",
         "2023.0",
         "5.0",
         "299872.0",
         "5.0",
         "5.0"
        ],
        [
         "mean",
         "2011.584",
         "3.0075",
         "148257.201",
         "3.458",
         "2.985"
        ]
       ],
       "shape": {
        "columns": 5,
        "rows": 3
       }
      },
      "text/html": [
       "<div>\n",
       "<style scoped>\n",
       "    .dataframe tbody tr th:only-of-type {\n",
       "        vertical-align: middle;\n",
       "    }\n",
       "\n",
       "    .dataframe tbody tr th {\n",
       "        vertical-align: top;\n",
       "    }\n",
       "\n",
       "    .dataframe thead th {\n",
       "        text-align: right;\n",
       "    }\n",
       "</style>\n",
       "<table border=\"1\" class=\"dataframe\">\n",
       "  <thead>\n",
       "    <tr style=\"text-align: right;\">\n",
       "      <th></th>\n",
       "      <th>Year_num</th>\n",
       "      <th>Engine_Size_num</th>\n",
       "      <th>Mileage_num</th>\n",
       "      <th>Doors_count_num</th>\n",
       "      <th>old_Owner_Count_num</th>\n",
       "    </tr>\n",
       "  </thead>\n",
       "  <tbody>\n",
       "    <tr>\n",
       "      <th>min</th>\n",
       "      <td>2000.000</td>\n",
       "      <td>1.0000</td>\n",
       "      <td>88.000</td>\n",
       "      <td>2.000</td>\n",
       "      <td>1.000</td>\n",
       "    </tr>\n",
       "    <tr>\n",
       "      <th>max</th>\n",
       "      <td>2023.000</td>\n",
       "      <td>5.0000</td>\n",
       "      <td>299872.000</td>\n",
       "      <td>5.000</td>\n",
       "      <td>5.000</td>\n",
       "    </tr>\n",
       "    <tr>\n",
       "      <th>mean</th>\n",
       "      <td>2011.584</td>\n",
       "      <td>3.0075</td>\n",
       "      <td>148257.201</td>\n",
       "      <td>3.458</td>\n",
       "      <td>2.985</td>\n",
       "    </tr>\n",
       "  </tbody>\n",
       "</table>\n",
       "</div>"
      ],
      "text/plain": [
       "      Year_num  Engine_Size_num  Mileage_num  Doors_count_num  \\\n",
       "min   2000.000           1.0000       88.000            2.000   \n",
       "max   2023.000           5.0000   299872.000            5.000   \n",
       "mean  2011.584           3.0075   148257.201            3.458   \n",
       "\n",
       "      old_Owner_Count_num  \n",
       "min                 1.000  \n",
       "max                 5.000  \n",
       "mean                2.985  "
      ]
     },
     "execution_count": 17,
     "metadata": {},
     "output_type": "execute_result"
    }
   ],
   "source": [
    "df[numeric_cols].describe().loc[[\"min\", \"max\", \"mean\"]]\n"
   ]
  },
  {
   "cell_type": "markdown",
   "metadata": {},
   "source": [
    "Cot binary\n"
   ]
  },
  {
   "cell_type": "code",
   "execution_count": null,
   "metadata": {},
   "outputs": [],
   "source": [
    "for col in binary_cols:\n",
    "    print(f\"{col} -> {df[col].unique().tolist()}\")\n"
   ]
  },
  {
   "cell_type": "markdown",
   "metadata": {},
   "source": [
    "Cot nominal\n"
   ]
  },
  {
   "cell_type": "code",
   "execution_count": null,
   "metadata": {},
   "outputs": [
    {
     "name": "stdout",
     "output_type": "stream",
     "text": [
      "Brand_nom -> ['BMW', 'Volkswagen', 'Toyota', 'Mercedes', 'Honda', 'Kia', 'Chevrolet', 'Audi', 'Hyundai', 'Ford']\n",
      "Model_nom -> ['3 Series', 'Golf', 'RAV4', 'E-Class', 'Civic', 'GLA', '5 Series', 'Optima', 'CR-V', 'Impala', 'C-Class', 'A3', 'Q5', 'Tiguan', 'Accord', 'Malibu', 'Rio', 'Elantra', 'Sonata', 'Fiesta', 'Tucson', 'Focus', 'Corolla', 'Equinox', 'A4', 'X5', 'Explorer', 'Camry', 'Passat', 'Sportage']\n",
      "Fuel_Type_nom -> ['Diesel', 'Hybrid', 'Petrol', 'Electric']\n",
      "Transmission_type_nom -> ['Manual', 'Automatic', 'Semi-Automatic']\n"
     ]
    }
   ],
   "source": [
    "for col in nominal_cols:\n",
    "    print(f\"{col} -> {df[col].unique().tolist()}\")\n"
   ]
  },
  {
   "cell_type": "markdown",
   "metadata": {},
   "source": [
    "Cot ordinal\n"
   ]
  },
  {
   "cell_type": "code",
   "execution_count": null,
   "metadata": {},
   "outputs": [],
   "source": [
    "for col in ordinal_cols:\n",
    "    print(f\"{col} -> {df[col].unique().tolist()}\")\n"
   ]
  },
  {
   "cell_type": "markdown",
   "metadata": {},
   "source": [
    "Cot target\n"
   ]
  },
  {
   "cell_type": "code",
   "execution_count": null,
   "metadata": {},
   "outputs": [
    {
     "name": "stdout",
     "output_type": "stream",
     "text": [
      "Price -> [2000, 11164, 14630, 7334, 10127, 7195, 8292, 6229, 5776, 4979, 12507, 9367, 15929, 9059, 7984, 4739, 13674, 11867, 7779, 4090, 11599, 6282, 8217, 9757, 14988, 4845, 11706, 3444, 6172, 12843, 13586, 4800, 8721, 10514, 11759, 13101, 12258, 3176, 9005, 7014, 8374, 9728, 6150, 6103, 5008, 4411, 10570, 13017, 6291, 11725, 14567, 10185, 8989, 7378, 5756, 8289, 8315, 5864, 9911, 5432, 5485, 8878, 9525, 6079, 11156, 7735, 11836, 4912, 10752, 7430, 2502, 5512, 14431, 5887, 11411, 6214, 5714, 12834, 3786, 8717, 3844, 7960, 2798, 12031, 8476, 10818, 7183, 7843, 12764, 11838, 8059, 8101, 11293, 5970, 7376, 9403, 10044, 5651, 7830, 10559, 9976, 3454, 10360, 10950, 10410, 5066, 9184, 8630, 5543, 12717, 5183, 4728, 13272, 12037, 9885, 9792, 3856, 11988, 7990, 5332, 7878, 10026, 11188, 10779, 8088, 10035, 7048, 8628, 8966, 5112, 11714, 10862, 5565, 5946, 11454, 7552, 12138, 4247, 7464, 8703, 11748, 11696, 6672, 11374, 4730, 10503, 14484, 11967, 11506, 13587, 6461, 10546, 5221, 2997, 11571, 10232, 11279, 3661, 9963, 11023, 11321, 7001, 9662, 11075, 11927, 11742, 6467, 8641, 13503, 6988, 3324, 7882, 14001, 10398, 12124, 10334, 13943, 2844, 6089, 6482, 12099, 11723, 9418, 10911, 9365, 9975, 9490, 10403, 8649, 11190, 6737, 2984, 7621, 8591, 14233, 15682, 10682, 7911, 14268, 9656, 7633, 5381, 9558, 12149, 13261, 9007, 5940, 17078, 11544, 8166, 8841, 11332, 8352, 3929, 9997, 9292, 7033, 3291, 7316, 13901, 15962, 3187, 5901, 3778, 10612, 13483, 7964, 6212, 3966, 6216, 10966, 5249, 8272, 10308, 9676, 9143, 8173, 6048, 11638, 4478, 8625, 13517, 11539, 3306, 4190, 11027, 7827, 3975, 2471, 9234, 7824, 12231, 12767, 10270, 10064, 9445, 12537, 10242, 10846, 12036, 8620, 8840, 8403, 7962, 6058, 13113, 7761, 6290, 8748, 8061, 9658, 9868, 7636, 6750, 10115, 6076, 2123, 5189, 17630, 12658, 8706, 9655, 10623, 9200, 12802, 4369, 7291, 12343, 10087, 9450, 14486, 6600, 10564, 12840, 5986, 9783, 8578, 10209, 14433, 10772, 7665, 12666, 9814, 9666, 15888, 13574, 8936, 9127, 12018, 7612, 8883, 9986, 12941, 9288, 6389, 11677, 2601, 9376, 11196, 11017, 9619, 3742, 8254, 8866, 4040, 7188, 9721, 8662, 8241, 7010, 7937, 6660, 4172, 12513, 4303, 4642, 8728, 10735, 10765, 12440, 9764, 8205, 9502, 7581, 4902, 5685, 5535, 9529, 9944, 10535, 7803, 8130, 3846, 4612, 11557, 10903, 8135, 7666, 10572, 6347, 11372, 10593, 9641, 14314, 6074, 10798, 8246, 8299, 12196, 6420, 6545, 11248, 9706, 9219, 13449, 9257, 6747, 10201, 12667, 10214, 8209, 13792, 10166, 9931, 9498, 10157, 12855, 11536, 9896, 6419, 5584, 8444, 5981, 8777, 14758, 8182, 9901, 9562, 13724, 13170, 11312, 5899, 8739, 8747, 9052, 12350, 3884, 9014, 2339, 5430, 10867, 4398, 11681, 5780, 13920, 10447, 9289, 10086, 6313, 11135, 10683, 5704, 3889, 8772, 7280, 6175, 10129, 12304, 6183, 4585, 9307, 9177, 14791, 6960, 14154, 2797, 11048, 9576, 7678, 13610, 8853, 4729, 3782, 5494, 10131, 8671, 14501, 11578, 8970, 7260, 4374, 13468, 7221, 8437, 8547, 6874, 8738, 5913, 7629, 6465, 7162, 6777, 13086, 8545, 10569, 8038, 17054, 7204, 7725, 8597, 11780, 6311, 8851, 14514, 9097, 11782, 9070, 4498, 11064, 10289, 5747, 6665, 5898, 11416, 2383, 10933, 13132, 9968, 6105, 6819, 9553, 8688, 9064, 14564, 12995, 9671, 8127, 11106, 9311, 13123, 6133, 7110, 5244, 9188, 12460, 10221, 11515, 8727, 11427, 12408, 3191, 7938, 7740, 8490, 13428, 3904, 9271, 13134, 15990, 6405, 11513, 9075, 5425, 11208, 10373, 4663, 10269, 5328, 7505, 6680, 8958, 10008, 12341, 10247, 10168, 10390, 7230, 9221, 6896, 12669, 9874, 8113, 16492, 9859, 7054, 3914, 7985, 8952, 10423, 13068, 10119, 7557, 14312, 3847, 6758, 6661, 9255, 9373, 7601, 10832, 13997, 7635, 8991, 10078, 9545, 10504, 8064, 7817, 5417, 5590, 3322, 4764, 13481, 9955, 10513, 9779, 8419, 10643, 12645, 8501, 7337, 14938, 8638, 12519, 4245, 4099, 9269, 12033, 11403, 2449, 12363, 9032, 4069, 7402, 12156, 10402, 16105, 7088, 13407, 7113, 7680, 9129, 9810, 7550, 10022, 11299, 15462, 4196, 5862, 7936, 5642, 4827, 10921, 7477, 8070, 8463, 8920, 5098, 9477, 11773, 14499, 11091, 11104, 8224, 8339, 8261, 8126, 5672, 10105, 6805, 9614, 6450, 8256, 12602, 9769, 7727, 9351, 12179, 13946, 10220, 3731, 8562, 14991, 13893, 4425, 9240, 4154, 8992, 3198, 7638, 10104, 10144, 8674, 12512, 4593, 10629, 9743, 6524, 9926, 8242, 6362, 7754, 10851, 13298, 6128, 11834, 5814, 10882, 8764, 6744, 10946, 8832, 7478, 7047, 3954, 11240, 5003, 10429, 9449, 10518, 7644, 9855, 10497, 11152, 11647, 12375, 11767, 7917, 7231, 9410, 4267, 4693, 15070, 12577, 12381, 8876, 11257, 11852, 9375, 8751, 7235, 3098, 10000, 4227, 6205, 12333, 9396, 10957, 5857, 7555, 8902, 12210, 10067, 12034, 7910, 8494, 3683, 8636, 2384, 6506, 5696, 7932, 3343, 7503, 8475, 9500, 4894, 9664, 9320, 3839, 5885, 5218, 5329, 5107, 10756, 14164, 8810, 10302, 9089, 12488, 14048, 5628, 7279, 7476, 2451, 9453, 12041, 4879, 7559, 7435, 14252, 11260, 13591, 7558, 12821, 7167, 9259, 8023, 6650, 10568, 7890, 9762, 6931, 4216, 13041, 8056, 11264, 12245, 9890, 9319, 6783, 11530, 10114, 14325, 8553, 7432, 8609, 7475, 11285, 7701, 10418, 4409, 6451, 8000, 8066, 6561, 7703, 6425, 11095, 9622, 4936, 11849, 8098, 5826, 7887, 8731, 9824, 11306, 13897, 12382, 9034, 7706, 8913, 12431, 13447, 10431, 2904, 7856, 7599, 9381, 10237, 6626, 6257, 3543, 10052, 4407, 6166, 10905, 5689, 7029, 4454, 6255, 11954, 7331, 6101, 10889, 14718, 7513, 14326, 3696, 6721, 11029, 10029, 8580, 4147, 11882, 11710, 14574, 14208, 9444, 10375, 13858, 8828, 10344, 4530, 8536, 8087, 8792, 6757, 6781, 10909, 6971, 12790, 7058, 2512, 7438, 12020, 9212, 9121, 12607, 8658, 8409, 11178, 6694, 10505, 12058, 4538, 14351, 8778, 12544, 5947, 11935, 12469, 11108, 6439, 5506, 7276, 7191, 12184, 11813, 11995, 8236, 4600, 11745, 11573, 7886, 12891, 7928, 12130, 8982, 6749, 14563, 4675, 10109, 9189, 12699, 8228, 9776, 13069, 5832, 10688, 14505, 2707, 4637, 10871, 7314, 6975, 6575, 3950, 3312, 9530, 6597, 6050, 14835, 13107, 6318, 16146, 7386, 7681, 11212, 3774, 10512, 3915, 7767, 8427, 6307, 9516, 5607, 6069, 9328, 12987, 7814, 8085, 12300, 9012, 2473, 7148, 13268, 10935, 10298, 10250, 2487, 13197, 5273, 5453, 5797, 11526, 5268, 5489, 10753, 6542]\n"
     ]
    }
   ],
   "source": [
    "print(f\"{target_col} -> {df[target_col].unique().tolist()}\")\n"
   ]
  },
  {
   "cell_type": "markdown",
   "metadata": {},
   "source": [
    "Fill missing value\n"
   ]
  },
  {
   "cell_type": "code",
   "execution_count": null,
   "metadata": {},
   "outputs": [
    {
     "data": {
      "application/vnd.microsoft.datawrangler.viewer.v0+json": {
       "columns": [
        {
         "name": "index",
         "rawType": "int64",
         "type": "integer"
        },
        {
         "name": "Year_num",
         "rawType": "object",
         "type": "unknown"
        },
        {
         "name": "Engine_Size_num",
         "rawType": "object",
         "type": "unknown"
        },
        {
         "name": "Mileage_num",
         "rawType": "object",
         "type": "unknown"
        },
        {
         "name": "Doors_count_num",
         "rawType": "object",
         "type": "unknown"
        },
        {
         "name": "old_Owner_Count_num",
         "rawType": "object",
         "type": "unknown"
        },
        {
         "name": "Brand_nom",
         "rawType": "object",
         "type": "string"
        },
        {
         "name": "Model_nom",
         "rawType": "object",
         "type": "string"
        },
        {
         "name": "Fuel_Type_nom",
         "rawType": "object",
         "type": "string"
        },
        {
         "name": "Transmission_type_nom",
         "rawType": "object",
         "type": "string"
        },
        {
         "name": "Price",
         "rawType": "object",
         "type": "unknown"
        }
       ],
       "conversionMethod": "pd.DataFrame",
       "ref": "19321322-2f3c-423a-b697-e92b299603d4",
       "rows": [
        [
         "0",
         "2005.0",
         "1.2",
         "257760.0",
         "5.0",
         "5.0",
         "BMW",
         "3 Series",
         "Diesel",
         "Manual",
         "2000"
        ],
        [
         "1",
         "2013.0",
         "2.9",
         "111790.0",
         "5.0",
         "3.0",
         "Volkswagen",
         "Golf",
         "Hybrid",
         "Automatic",
         "11164"
        ],
        [
         "2",
         "2011.0",
         "5.0",
         "13473.0",
         "5.0",
         "4.0",
         "Toyota",
         "RAV4",
         "Hybrid",
         "Automatic",
         "14630"
        ],
        [
         "3",
         "2007.0",
         "3.8",
         "133298.0",
         "4.0",
         "5.0",
         "Mercedes",
         "E-Class",
         "Diesel",
         "Manual",
         "7334"
        ],
        [
         "4",
         "2012.0",
         "1.3",
         "18611.0",
         "3.0",
         "5.0",
         "Honda",
         "Civic",
         "Petrol",
         "Automatic",
         "10127"
        ]
       ],
       "shape": {
        "columns": 10,
        "rows": 5
       }
      },
      "text/html": [
       "<div>\n",
       "<style scoped>\n",
       "    .dataframe tbody tr th:only-of-type {\n",
       "        vertical-align: middle;\n",
       "    }\n",
       "\n",
       "    .dataframe tbody tr th {\n",
       "        vertical-align: top;\n",
       "    }\n",
       "\n",
       "    .dataframe thead th {\n",
       "        text-align: right;\n",
       "    }\n",
       "</style>\n",
       "<table border=\"1\" class=\"dataframe\">\n",
       "  <thead>\n",
       "    <tr style=\"text-align: right;\">\n",
       "      <th></th>\n",
       "      <th>Year_num</th>\n",
       "      <th>Engine_Size_num</th>\n",
       "      <th>Mileage_num</th>\n",
       "      <th>Doors_count_num</th>\n",
       "      <th>old_Owner_Count_num</th>\n",
       "      <th>Brand_nom</th>\n",
       "      <th>Model_nom</th>\n",
       "      <th>Fuel_Type_nom</th>\n",
       "      <th>Transmission_type_nom</th>\n",
       "      <th>Price</th>\n",
       "    </tr>\n",
       "  </thead>\n",
       "  <tbody>\n",
       "    <tr>\n",
       "      <th>0</th>\n",
       "      <td>2005.0</td>\n",
       "      <td>1.2</td>\n",
       "      <td>257760.0</td>\n",
       "      <td>5.0</td>\n",
       "      <td>5.0</td>\n",
       "      <td>BMW</td>\n",
       "      <td>3 Series</td>\n",
       "      <td>Diesel</td>\n",
       "      <td>Manual</td>\n",
       "      <td>2000</td>\n",
       "    </tr>\n",
       "    <tr>\n",
       "      <th>1</th>\n",
       "      <td>2013.0</td>\n",
       "      <td>2.9</td>\n",
       "      <td>111790.0</td>\n",
       "      <td>5.0</td>\n",
       "      <td>3.0</td>\n",
       "      <td>Volkswagen</td>\n",
       "      <td>Golf</td>\n",
       "      <td>Hybrid</td>\n",
       "      <td>Automatic</td>\n",
       "      <td>11164</td>\n",
       "    </tr>\n",
       "    <tr>\n",
       "      <th>2</th>\n",
       "      <td>2011.0</td>\n",
       "      <td>5.0</td>\n",
       "      <td>13473.0</td>\n",
       "      <td>5.0</td>\n",
       "      <td>4.0</td>\n",
       "      <td>Toyota</td>\n",
       "      <td>RAV4</td>\n",
       "      <td>Hybrid</td>\n",
       "      <td>Automatic</td>\n",
       "      <td>14630</td>\n",
       "    </tr>\n",
       "    <tr>\n",
       "      <th>3</th>\n",
       "      <td>2007.0</td>\n",
       "      <td>3.8</td>\n",
       "      <td>133298.0</td>\n",
       "      <td>4.0</td>\n",
       "      <td>5.0</td>\n",
       "      <td>Mercedes</td>\n",
       "      <td>E-Class</td>\n",
       "      <td>Diesel</td>\n",
       "      <td>Manual</td>\n",
       "      <td>7334</td>\n",
       "    </tr>\n",
       "    <tr>\n",
       "      <th>4</th>\n",
       "      <td>2012.0</td>\n",
       "      <td>1.3</td>\n",
       "      <td>18611.0</td>\n",
       "      <td>3.0</td>\n",
       "      <td>5.0</td>\n",
       "      <td>Honda</td>\n",
       "      <td>Civic</td>\n",
       "      <td>Petrol</td>\n",
       "      <td>Automatic</td>\n",
       "      <td>10127</td>\n",
       "    </tr>\n",
       "  </tbody>\n",
       "</table>\n",
       "</div>"
      ],
      "text/plain": [
       "  Year_num Engine_Size_num Mileage_num Doors_count_num old_Owner_Count_num  \\\n",
       "0   2005.0             1.2    257760.0             5.0                 5.0   \n",
       "1   2013.0             2.9    111790.0             5.0                 3.0   \n",
       "2   2011.0             5.0     13473.0             5.0                 4.0   \n",
       "3   2007.0             3.8    133298.0             4.0                 5.0   \n",
       "4   2012.0             1.3     18611.0             3.0                 5.0   \n",
       "\n",
       "    Brand_nom Model_nom Fuel_Type_nom Transmission_type_nom  Price  \n",
       "0         BMW  3 Series        Diesel                Manual   2000  \n",
       "1  Volkswagen      Golf        Hybrid             Automatic  11164  \n",
       "2      Toyota      RAV4        Hybrid             Automatic  14630  \n",
       "3    Mercedes   E-Class        Diesel                Manual   7334  \n",
       "4       Honda     Civic        Petrol             Automatic  10127  "
      ]
     },
     "execution_count": 22,
     "metadata": {},
     "output_type": "execute_result"
    }
   ],
   "source": [
    "cat_cols = binary_cols + nominal_cols + ordinal_cols + [target_col]\n",
    "\n",
    "preprocessor = myfuncs.load_python_object(\n",
    "    \"../artifacts/data_correction/missing_value_handler.pkl\"\n",
    ")\n",
    "\n",
    "\n",
    "\n",
    "df_filled = preprocessor.transform(df)\n",
    "df_filled = pd.DataFrame(df_filled, columns=numeric_cols + cat_cols)\n",
    "\n",
    "\n",
    "\n",
    "df_filled.head()\n"
   ]
  },
  {
   "cell_type": "markdown",
   "metadata": {},
   "source": [
    "Chuyen doi ve dung kieu du lieu\n"
   ]
  },
  {
   "cell_type": "markdown",
   "metadata": {},
   "source": [
    "Kiem tra cac gia tri cua cot binary\n"
   ]
  },
  {
   "cell_type": "code",
   "execution_count": null,
   "metadata": {},
   "outputs": [],
   "source": [
    "for col in binary_cols:\n",
    "    print(f\"{col} -> {df[col].unique().tolist()}\")\n"
   ]
  },
  {
   "cell_type": "markdown",
   "metadata": {},
   "source": [
    "Chuyen cac cot binary ve so\n"
   ]
  },
  {
   "cell_type": "code",
   "execution_count": null,
   "metadata": {},
   "outputs": [],
   "source": [
    "df_filled[binary_cols] = df_filled[binary_cols].replace(\n",
    "    {\n",
    "        \"Yes\": 1,\n",
    "        \"No\": 0,\n",
    "    }\n",
    ")\n"
   ]
  },
  {
   "cell_type": "code",
   "execution_count": null,
   "metadata": {},
   "outputs": [
    {
     "name": "stdout",
     "output_type": "stream",
     "text": [
      "<class 'pandas.core.frame.DataFrame'>\n",
      "RangeIndex: 1000 entries, 0 to 999\n",
      "Data columns (total 10 columns):\n",
      " #   Column                 Non-Null Count  Dtype   \n",
      "---  ------                 --------------  -----   \n",
      " 0   Year_num               1000 non-null   float64 \n",
      " 1   Engine_Size_num        1000 non-null   float64 \n",
      " 2   Mileage_num            1000 non-null   float64 \n",
      " 3   Doors_count_num        1000 non-null   float64 \n",
      " 4   old_Owner_Count_num    1000 non-null   float64 \n",
      " 5   Brand_nom              1000 non-null   category\n",
      " 6   Model_nom              1000 non-null   category\n",
      " 7   Fuel_Type_nom          1000 non-null   category\n",
      " 8   Transmission_type_nom  1000 non-null   category\n",
      " 9   Price                  1000 non-null   float64 \n",
      "dtypes: category(4), float64(6)\n",
      "memory usage: 52.9 KB\n"
     ]
    }
   ],
   "source": [
    "df_filled[numeric_cols + binary_cols] = df_filled[numeric_cols + binary_cols].astype(\n",
    "    \"float\"\n",
    ")\n",
    "\n",
    "\n",
    "df_filled[nominal_cols + ordinal_cols] = df_filled[nominal_cols + ordinal_cols].astype(\n",
    "    \"category\"\n",
    ")\n",
    "\n",
    "df_filled[target_col] = df_filled[target_col].astype(\"float\")\n",
    "\n",
    "df_filled.info()\n"
   ]
  },
  {
   "cell_type": "markdown",
   "metadata": {},
   "source": [
    "Thay doi thu tu cac label cho cac cot ordinal\n"
   ]
  },
  {
   "cell_type": "code",
   "execution_count": null,
   "metadata": {},
   "outputs": [],
   "source": [
    "ord_values_dict = {\n",
    "    \"Physical_Activity_Level_ord\": [\"Low\", \"Medium\", \"High\"],\n",
    "    \"Smoking_Status_level_ord\": [\"Never\", \"Former\", \"Current\"],\n",
    "    \"Alcohol_Consumption_Level_ord\": [\"Never\", \"Occasionally\", \"Regularly\"],\n",
    "    \"Cholesterol_Level_ord\": [\"Normal\", \"High\"],\n",
    "    \"Depression_Level_ord\": [\"Low\", \"Medium\", \"High\"],\n",
    "    \"Sleep_Quality_Level_ord\": [\"Poor\", \"Average\", \"Good\"],\n",
    "    \"Diet_level_ord\": [\"Unhealthy\", \"Average\", \"Healthy\"],\n",
    "    \"Air_Pollution_Exposure_level_ord\": [\"Low\", \"Medium\", \"High\"],\n",
    "    \"Social_Engagement_Level_ord\": [\"Low\", \"Medium\", \"High\"],\n",
    "    \"Income_Level_ord\": [\"Low\", \"Medium\", \"High\"],\n",
    "    \"Stress_Levels_ord\": [\"Low\", \"Medium\", \"High\"],\n",
    "}\n",
    "\n",
    "ordinal_cols_series = pd.Series(df_filled.columns)\n",
    "ordinal_cols_series = ordinal_cols_series[\n",
    "    ordinal_cols_series.str.endswith(\"ord\")\n",
    "].tolist()\n",
    "\n",
    "\n",
    "for col in ordinal_cols_series:\n",
    "    df_filled[col] = df_filled[col].cat.reorder_categories(\n",
    "        ord_values_dict[col], ordered=True\n",
    "    )\n"
   ]
  },
  {
   "cell_type": "markdown",
   "metadata": {},
   "source": [
    "Check duplicates\n"
   ]
  },
  {
   "cell_type": "code",
   "execution_count": null,
   "metadata": {},
   "outputs": [
    {
     "data": {
      "text/plain": [
       "False"
      ]
     },
     "execution_count": 26,
     "metadata": {},
     "output_type": "execute_result"
    }
   ],
   "source": [
    "any(df_filled.duplicated())\n"
   ]
  },
  {
   "cell_type": "markdown",
   "metadata": {},
   "source": [
    "Khong co duplicates\n"
   ]
  },
  {
   "cell_type": "code",
   "execution_count": null,
   "metadata": {},
   "outputs": [
    {
     "data": {
      "text/plain": [
       "(1000, 10)"
      ]
     },
     "execution_count": 27,
     "metadata": {},
     "output_type": "execute_result"
    }
   ],
   "source": [
    "df_filled.shape\n"
   ]
  },
  {
   "cell_type": "markdown",
   "metadata": {},
   "source": [
    "Luu test data lai\n"
   ]
  },
  {
   "cell_type": "code",
   "execution_count": null,
   "metadata": {},
   "outputs": [],
   "source": [
    "myfuncs.save_python_object(\"../artifacts/data_correction/test_data.pkl\", df_filled)\n"
   ]
  }
 ],
 "metadata": {
  "kernelspec": {
   "display_name": "Python 3",
   "language": "python",
   "name": "python3"
  },
  "language_info": {
   "codemirror_mode": {
    "name": "ipython",
    "version": 3
   },
   "file_extension": ".py",
   "mimetype": "text/x-python",
   "name": "python",
   "nbconvert_exporter": "python",
   "pygments_lexer": "ipython3",
   "version": "3.10.0"
  }
 },
 "nbformat": 4,
 "nbformat_minor": 2
}
