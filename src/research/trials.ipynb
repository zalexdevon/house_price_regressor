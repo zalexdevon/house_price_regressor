{
 "cells": [
  {
   "cell_type": "code",
   "execution_count": null,
   "metadata": {},
   "outputs": [
    {
     "data": {
      "text/plain": [
       "'d:\\\\DA_workspace\\\\Template_ML_projects\\\\car_price_prediction_newacc\\\\src'"
      ]
     },
     "execution_count": 1,
     "metadata": {},
     "output_type": "execute_result"
    }
   ],
   "source": [
    "import os\n",
    "\n",
    "\n",
    "os.chdir(\"../\")\n",
    "\n",
    "\n",
    "os.getcwd()\n"
   ]
  },
  {
   "cell_type": "code",
   "execution_count": null,
   "metadata": {},
   "outputs": [],
   "source": [
    "from regressor.Mylib import myfuncs\n"
   ]
  },
  {
   "cell_type": "code",
   "execution_count": null,
   "metadata": {},
   "outputs": [
    {
     "data": {
      "application/vnd.microsoft.datawrangler.viewer.v0+json": {
       "columns": [
        {
         "name": "index",
         "rawType": "int64",
         "type": "integer"
        },
        {
         "name": "Year_num",
         "rawType": "float64",
         "type": "float"
        },
        {
         "name": "Mileage_num",
         "rawType": "float64",
         "type": "float"
        },
        {
         "name": "Engine_Size_num",
         "rawType": "float64",
         "type": "float"
        },
        {
         "name": "Doors_count_num",
         "rawType": "float64",
         "type": "float"
        },
        {
         "name": "old_Owner_Count_num",
         "rawType": "float64",
         "type": "float"
        },
        {
         "name": "Model_nom_5 Series",
         "rawType": "float64",
         "type": "float"
        },
        {
         "name": "Model_nom_A3",
         "rawType": "float64",
         "type": "float"
        },
        {
         "name": "Model_nom_A4",
         "rawType": "float64",
         "type": "float"
        },
        {
         "name": "Model_nom_Accord",
         "rawType": "float64",
         "type": "float"
        },
        {
         "name": "Model_nom_C-Class",
         "rawType": "float64",
         "type": "float"
        },
        {
         "name": "Model_nom_CR-V",
         "rawType": "float64",
         "type": "float"
        },
        {
         "name": "Model_nom_Camry",
         "rawType": "float64",
         "type": "float"
        },
        {
         "name": "Model_nom_Civic",
         "rawType": "float64",
         "type": "float"
        },
        {
         "name": "Model_nom_Corolla",
         "rawType": "float64",
         "type": "float"
        },
        {
         "name": "Model_nom_E-Class",
         "rawType": "float64",
         "type": "float"
        },
        {
         "name": "Model_nom_Elantra",
         "rawType": "float64",
         "type": "float"
        },
        {
         "name": "Model_nom_Equinox",
         "rawType": "float64",
         "type": "float"
        },
        {
         "name": "Model_nom_Explorer",
         "rawType": "float64",
         "type": "float"
        },
        {
         "name": "Model_nom_Fiesta",
         "rawType": "float64",
         "type": "float"
        },
        {
         "name": "Model_nom_Focus",
         "rawType": "float64",
         "type": "float"
        },
        {
         "name": "Model_nom_GLA",
         "rawType": "float64",
         "type": "float"
        },
        {
         "name": "Model_nom_Golf",
         "rawType": "float64",
         "type": "float"
        },
        {
         "name": "Model_nom_Impala",
         "rawType": "float64",
         "type": "float"
        },
        {
         "name": "Model_nom_Malibu",
         "rawType": "float64",
         "type": "float"
        },
        {
         "name": "Model_nom_Optima",
         "rawType": "float64",
         "type": "float"
        },
        {
         "name": "Model_nom_Passat",
         "rawType": "float64",
         "type": "float"
        },
        {
         "name": "Model_nom_Q5",
         "rawType": "float64",
         "type": "float"
        },
        {
         "name": "Model_nom_RAV4",
         "rawType": "float64",
         "type": "float"
        },
        {
         "name": "Model_nom_Rio",
         "rawType": "float64",
         "type": "float"
        },
        {
         "name": "Model_nom_Sonata",
         "rawType": "float64",
         "type": "float"
        },
        {
         "name": "Model_nom_Sportage",
         "rawType": "float64",
         "type": "float"
        },
        {
         "name": "Model_nom_Tiguan",
         "rawType": "float64",
         "type": "float"
        },
        {
         "name": "Model_nom_Tucson",
         "rawType": "float64",
         "type": "float"
        },
        {
         "name": "Model_nom_X5",
         "rawType": "float64",
         "type": "float"
        },
        {
         "name": "Transmission_type_nom_Manual",
         "rawType": "float64",
         "type": "float"
        },
        {
         "name": "Transmission_type_nom_Semi-Automatic",
         "rawType": "float64",
         "type": "float"
        },
        {
         "name": "Brand_nom_BMW",
         "rawType": "float64",
         "type": "float"
        },
        {
         "name": "Brand_nom_Chevrolet",
         "rawType": "float64",
         "type": "float"
        },
        {
         "name": "Brand_nom_Ford",
         "rawType": "float64",
         "type": "float"
        },
        {
         "name": "Brand_nom_Honda",
         "rawType": "float64",
         "type": "float"
        },
        {
         "name": "Brand_nom_Hyundai",
         "rawType": "float64",
         "type": "float"
        },
        {
         "name": "Brand_nom_Kia",
         "rawType": "float64",
         "type": "float"
        },
        {
         "name": "Brand_nom_Mercedes",
         "rawType": "float64",
         "type": "float"
        },
        {
         "name": "Brand_nom_Toyota",
         "rawType": "float64",
         "type": "float"
        },
        {
         "name": "Brand_nom_Volkswagen",
         "rawType": "float64",
         "type": "float"
        },
        {
         "name": "Fuel_Type_nom_Electric",
         "rawType": "float64",
         "type": "float"
        },
        {
         "name": "Fuel_Type_nom_Hybrid",
         "rawType": "float64",
         "type": "float"
        },
        {
         "name": "Fuel_Type_nom_Petrol",
         "rawType": "float64",
         "type": "float"
        }
       ],
       "conversionMethod": "pd.DataFrame",
       "ref": "7689aab9-f75f-4cab-9bb6-a6bfdb2b84de",
       "rows": [
        [
         "0",
         "-1.2379785441703461",
         "-1.398053722343323",
         "-1.3023977554703308",
         "-0.45160757950512126",
         "0.7074901736467091",
         "0.0",
         "0.0",
         "0.0",
         "0.0",
         "0.0",
         "0.0",
         "0.0",
         "0.0",
         "1.0",
         "0.0",
         "0.0",
         "0.0",
         "0.0",
         "0.0",
         "0.0",
         "0.0",
         "0.0",
         "0.0",
         "0.0",
         "0.0",
         "0.0",
         "0.0",
         "0.0",
         "0.0",
         "0.0",
         "0.0",
         "0.0",
         "0.0",
         "0.0",
         "0.0",
         "1.0",
         "0.0",
         "0.0",
         "0.0",
         "0.0",
         "0.0",
         "0.0",
         "0.0",
         "1.0",
         "0.0",
         "1.0",
         "0.0",
         "0.0"
        ],
        [
         "1",
         "1.081630454314173",
         "1.1956419288119722",
         "0.00018332622631290503",
         "-0.45160757950512126",
         "0.7074901736467091",
         "0.0",
         "0.0",
         "0.0",
         "0.0",
         "0.0",
         "0.0",
         "0.0",
         "0.0",
         "0.0",
         "0.0",
         "0.0",
         "0.0",
         "0.0",
         "0.0",
         "0.0",
         "0.0",
         "0.0",
         "0.0",
         "1.0",
         "0.0",
         "0.0",
         "0.0",
         "0.0",
         "0.0",
         "0.0",
         "0.0",
         "0.0",
         "0.0",
         "0.0",
         "1.0",
         "0.0",
         "0.0",
         "1.0",
         "0.0",
         "0.0",
         "0.0",
         "0.0",
         "0.0",
         "0.0",
         "0.0",
         "0.0",
         "0.0",
         "1.0"
        ],
        [
         "2",
         "-0.9480274193597813",
         "0.2537535686604673",
         "-1.6497527105894356",
         "0.4490058074982225",
         "0.7074901736467091",
         "0.0",
         "0.0",
         "0.0",
         "0.0",
         "0.0",
         "0.0",
         "0.0",
         "0.0",
         "0.0",
         "0.0",
         "0.0",
         "0.0",
         "0.0",
         "0.0",
         "1.0",
         "0.0",
         "0.0",
         "0.0",
         "0.0",
         "0.0",
         "0.0",
         "0.0",
         "0.0",
         "0.0",
         "0.0",
         "0.0",
         "0.0",
         "0.0",
         "0.0",
         "0.0",
         "1.0",
         "0.0",
         "0.0",
         "1.0",
         "0.0",
         "0.0",
         "0.0",
         "0.0",
         "0.0",
         "0.0",
         "0.0",
         "0.0",
         "1.0"
        ],
        [
         "3",
         "-1.2379785441703461",
         "1.5851123079840845",
         "-1.5629139718096594",
         "-1.352220966508465",
         "-1.3976712423177102",
         "0.0",
         "0.0",
         "0.0",
         "0.0",
         "0.0",
         "1.0",
         "0.0",
         "0.0",
         "0.0",
         "0.0",
         "0.0",
         "0.0",
         "0.0",
         "0.0",
         "0.0",
         "0.0",
         "0.0",
         "0.0",
         "0.0",
         "0.0",
         "0.0",
         "0.0",
         "0.0",
         "0.0",
         "0.0",
         "0.0",
         "0.0",
         "0.0",
         "0.0",
         "1.0",
         "0.0",
         "0.0",
         "0.0",
         "0.0",
         "1.0",
         "0.0",
         "0.0",
         "0.0",
         "0.0",
         "0.0",
         "0.0",
         "0.0",
         "1.0"
        ],
        [
         "4",
         "0.06680151747719586",
         "1.2012044669577295",
         "0.2606995425656415",
         "-0.45160757950512126",
         "0.005769701658569241",
         "0.0",
         "0.0",
         "0.0",
         "0.0",
         "0.0",
         "0.0",
         "0.0",
         "0.0",
         "0.0",
         "0.0",
         "0.0",
         "0.0",
         "0.0",
         "0.0",
         "0.0",
         "0.0",
         "0.0",
         "0.0",
         "0.0",
         "0.0",
         "0.0",
         "0.0",
         "0.0",
         "1.0",
         "0.0",
         "0.0",
         "0.0",
         "0.0",
         "0.0",
         "0.0",
         "0.0",
         "0.0",
         "0.0",
         "0.0",
         "0.0",
         "0.0",
         "1.0",
         "0.0",
         "0.0",
         "0.0",
         "0.0",
         "1.0",
         "0.0"
        ]
       ],
       "shape": {
        "columns": 48,
        "rows": 5
       }
      },
      "text/html": [
       "<div>\n",
       "<style scoped>\n",
       "    .dataframe tbody tr th:only-of-type {\n",
       "        vertical-align: middle;\n",
       "    }\n",
       "\n",
       "    .dataframe tbody tr th {\n",
       "        vertical-align: top;\n",
       "    }\n",
       "\n",
       "    .dataframe thead th {\n",
       "        text-align: right;\n",
       "    }\n",
       "</style>\n",
       "<table border=\"1\" class=\"dataframe\">\n",
       "  <thead>\n",
       "    <tr style=\"text-align: right;\">\n",
       "      <th></th>\n",
       "      <th>Year_num</th>\n",
       "      <th>Mileage_num</th>\n",
       "      <th>Engine_Size_num</th>\n",
       "      <th>Doors_count_num</th>\n",
       "      <th>old_Owner_Count_num</th>\n",
       "      <th>Model_nom_5 Series</th>\n",
       "      <th>Model_nom_A3</th>\n",
       "      <th>Model_nom_A4</th>\n",
       "      <th>Model_nom_Accord</th>\n",
       "      <th>Model_nom_C-Class</th>\n",
       "      <th>...</th>\n",
       "      <th>Brand_nom_Ford</th>\n",
       "      <th>Brand_nom_Honda</th>\n",
       "      <th>Brand_nom_Hyundai</th>\n",
       "      <th>Brand_nom_Kia</th>\n",
       "      <th>Brand_nom_Mercedes</th>\n",
       "      <th>Brand_nom_Toyota</th>\n",
       "      <th>Brand_nom_Volkswagen</th>\n",
       "      <th>Fuel_Type_nom_Electric</th>\n",
       "      <th>Fuel_Type_nom_Hybrid</th>\n",
       "      <th>Fuel_Type_nom_Petrol</th>\n",
       "    </tr>\n",
       "  </thead>\n",
       "  <tbody>\n",
       "    <tr>\n",
       "      <th>0</th>\n",
       "      <td>-1.237979</td>\n",
       "      <td>-1.398054</td>\n",
       "      <td>-1.302398</td>\n",
       "      <td>-0.451608</td>\n",
       "      <td>0.707490</td>\n",
       "      <td>0.0</td>\n",
       "      <td>0.0</td>\n",
       "      <td>0.0</td>\n",
       "      <td>0.0</td>\n",
       "      <td>0.0</td>\n",
       "      <td>...</td>\n",
       "      <td>0.0</td>\n",
       "      <td>0.0</td>\n",
       "      <td>0.0</td>\n",
       "      <td>0.0</td>\n",
       "      <td>0.0</td>\n",
       "      <td>1.0</td>\n",
       "      <td>0.0</td>\n",
       "      <td>1.0</td>\n",
       "      <td>0.0</td>\n",
       "      <td>0.0</td>\n",
       "    </tr>\n",
       "    <tr>\n",
       "      <th>1</th>\n",
       "      <td>1.081630</td>\n",
       "      <td>1.195642</td>\n",
       "      <td>0.000183</td>\n",
       "      <td>-0.451608</td>\n",
       "      <td>0.707490</td>\n",
       "      <td>0.0</td>\n",
       "      <td>0.0</td>\n",
       "      <td>0.0</td>\n",
       "      <td>0.0</td>\n",
       "      <td>0.0</td>\n",
       "      <td>...</td>\n",
       "      <td>0.0</td>\n",
       "      <td>0.0</td>\n",
       "      <td>0.0</td>\n",
       "      <td>0.0</td>\n",
       "      <td>0.0</td>\n",
       "      <td>0.0</td>\n",
       "      <td>0.0</td>\n",
       "      <td>0.0</td>\n",
       "      <td>0.0</td>\n",
       "      <td>1.0</td>\n",
       "    </tr>\n",
       "    <tr>\n",
       "      <th>2</th>\n",
       "      <td>-0.948027</td>\n",
       "      <td>0.253754</td>\n",
       "      <td>-1.649753</td>\n",
       "      <td>0.449006</td>\n",
       "      <td>0.707490</td>\n",
       "      <td>0.0</td>\n",
       "      <td>0.0</td>\n",
       "      <td>0.0</td>\n",
       "      <td>0.0</td>\n",
       "      <td>0.0</td>\n",
       "      <td>...</td>\n",
       "      <td>1.0</td>\n",
       "      <td>0.0</td>\n",
       "      <td>0.0</td>\n",
       "      <td>0.0</td>\n",
       "      <td>0.0</td>\n",
       "      <td>0.0</td>\n",
       "      <td>0.0</td>\n",
       "      <td>0.0</td>\n",
       "      <td>0.0</td>\n",
       "      <td>1.0</td>\n",
       "    </tr>\n",
       "    <tr>\n",
       "      <th>3</th>\n",
       "      <td>-1.237979</td>\n",
       "      <td>1.585112</td>\n",
       "      <td>-1.562914</td>\n",
       "      <td>-1.352221</td>\n",
       "      <td>-1.397671</td>\n",
       "      <td>0.0</td>\n",
       "      <td>0.0</td>\n",
       "      <td>0.0</td>\n",
       "      <td>0.0</td>\n",
       "      <td>0.0</td>\n",
       "      <td>...</td>\n",
       "      <td>0.0</td>\n",
       "      <td>1.0</td>\n",
       "      <td>0.0</td>\n",
       "      <td>0.0</td>\n",
       "      <td>0.0</td>\n",
       "      <td>0.0</td>\n",
       "      <td>0.0</td>\n",
       "      <td>0.0</td>\n",
       "      <td>0.0</td>\n",
       "      <td>1.0</td>\n",
       "    </tr>\n",
       "    <tr>\n",
       "      <th>4</th>\n",
       "      <td>0.066802</td>\n",
       "      <td>1.201204</td>\n",
       "      <td>0.260700</td>\n",
       "      <td>-0.451608</td>\n",
       "      <td>0.005770</td>\n",
       "      <td>0.0</td>\n",
       "      <td>0.0</td>\n",
       "      <td>0.0</td>\n",
       "      <td>0.0</td>\n",
       "      <td>0.0</td>\n",
       "      <td>...</td>\n",
       "      <td>0.0</td>\n",
       "      <td>0.0</td>\n",
       "      <td>0.0</td>\n",
       "      <td>1.0</td>\n",
       "      <td>0.0</td>\n",
       "      <td>0.0</td>\n",
       "      <td>0.0</td>\n",
       "      <td>0.0</td>\n",
       "      <td>1.0</td>\n",
       "      <td>0.0</td>\n",
       "    </tr>\n",
       "  </tbody>\n",
       "</table>\n",
       "<p>5 rows × 48 columns</p>\n",
       "</div>"
      ],
      "text/plain": [
       "   Year_num  Mileage_num  Engine_Size_num  Doors_count_num  \\\n",
       "0 -1.237979    -1.398054        -1.302398        -0.451608   \n",
       "1  1.081630     1.195642         0.000183        -0.451608   \n",
       "2 -0.948027     0.253754        -1.649753         0.449006   \n",
       "3 -1.237979     1.585112        -1.562914        -1.352221   \n",
       "4  0.066802     1.201204         0.260700        -0.451608   \n",
       "\n",
       "   old_Owner_Count_num  Model_nom_5 Series  Model_nom_A3  Model_nom_A4  \\\n",
       "0             0.707490                 0.0           0.0           0.0   \n",
       "1             0.707490                 0.0           0.0           0.0   \n",
       "2             0.707490                 0.0           0.0           0.0   \n",
       "3            -1.397671                 0.0           0.0           0.0   \n",
       "4             0.005770                 0.0           0.0           0.0   \n",
       "\n",
       "   Model_nom_Accord  Model_nom_C-Class  ...  Brand_nom_Ford  Brand_nom_Honda  \\\n",
       "0               0.0                0.0  ...             0.0              0.0   \n",
       "1               0.0                0.0  ...             0.0              0.0   \n",
       "2               0.0                0.0  ...             1.0              0.0   \n",
       "3               0.0                0.0  ...             0.0              1.0   \n",
       "4               0.0                0.0  ...             0.0              0.0   \n",
       "\n",
       "   Brand_nom_Hyundai  Brand_nom_Kia  Brand_nom_Mercedes  Brand_nom_Toyota  \\\n",
       "0                0.0            0.0                 0.0               1.0   \n",
       "1                0.0            0.0                 0.0               0.0   \n",
       "2                0.0            0.0                 0.0               0.0   \n",
       "3                0.0            0.0                 0.0               0.0   \n",
       "4                0.0            1.0                 0.0               0.0   \n",
       "\n",
       "   Brand_nom_Volkswagen  Fuel_Type_nom_Electric  Fuel_Type_nom_Hybrid  \\\n",
       "0                   0.0                     1.0                   0.0   \n",
       "1                   0.0                     0.0                   0.0   \n",
       "2                   0.0                     0.0                   0.0   \n",
       "3                   0.0                     0.0                   0.0   \n",
       "4                   0.0                     0.0                   1.0   \n",
       "\n",
       "   Fuel_Type_nom_Petrol  \n",
       "0                   0.0  \n",
       "1                   1.0  \n",
       "2                   1.0  \n",
       "3                   1.0  \n",
       "4                   0.0  \n",
       "\n",
       "[5 rows x 48 columns]"
      ]
     },
     "execution_count": 3,
     "metadata": {},
     "output_type": "execute_result"
    }
   ],
   "source": [
    "df = myfuncs.load_python_object(\"../artifacts/data_transformation/1/train_features.pkl\")\n",
    "\n",
    "\n",
    "df.head()\n"
   ]
  },
  {
   "cell_type": "code",
   "execution_count": null,
   "metadata": {},
   "outputs": [
    {
     "data": {
      "text/plain": [
       "0    7925.0\n",
       "1    7749.0\n",
       "2    3275.0\n",
       "3    2000.0\n",
       "4    8439.0\n",
       "Name: Price, dtype: float64"
      ]
     },
     "execution_count": 4,
     "metadata": {},
     "output_type": "execute_result"
    }
   ],
   "source": [
    "target = myfuncs.load_python_object(\n",
    "    \"../artifacts/data_transformation_30/train_target.pkl\"\n",
    ")\n",
    "\n",
    "target.head()\n"
   ]
  }
 ],
 "metadata": {
  "kernelspec": {
   "display_name": "Python 3",
   "language": "python",
   "name": "python3"
  },
  "language_info": {
   "codemirror_mode": {
    "name": "ipython",
    "version": 3
   },
   "file_extension": ".py",
   "mimetype": "text/x-python",
   "name": "python",
   "nbconvert_exporter": "python",
   "pygments_lexer": "ipython3",
   "version": "3.10.0"
  }
 },
 "nbformat": 4,
 "nbformat_minor": 2
}
